{
  "cells": [
    {
      "cell_type": "markdown",
      "source": [
        "# Описание"
      ],
      "metadata": {
        "id": "TnQT5m1wO1t2"
      },
      "id": "TnQT5m1wO1t2"
    },
    {
      "cell_type": "markdown",
      "id": "9d99ac86",
      "metadata": {
        "papermill": {
          "duration": 0.010678,
          "end_time": "2023-11-14T03:38:54.250073",
          "exception": false,
          "start_time": "2023-11-14T03:38:54.239395",
          "status": "completed"
        },
        "tags": [],
        "id": "9d99ac86"
      },
      "source": [
        "Фишинговые электронные письма стали серьезной угрозой для отдельных лиц и организаций по всему миру. Эти вводящие в заблуждение электронные письма направлены на то, чтобы заставить получателей разгласить конфиденциальную информацию или совершить вредоносные действия. Обнаружение и предотвращение фишинговых писем имеет решающее значение для обеспечения личной и финансовой безопасности. В последние годы методы машинного обучения стали многообещающим подходом к борьбе с этой растущей угрозой.\n",
        "\n",
        "Набор данных содержит три столбца: индекс, содержимое письма и тип письма (безопасное или фишинговое).\n",
        "\n",
        "Цель: построить модель классификации, которая бы определяла по тексту письма фишинговое оно или нет.\n",
        "\n"
      ]
    },
    {
      "cell_type": "markdown",
      "source": [
        "# Библиотеки"
      ],
      "metadata": {
        "id": "6P6H6HG59e8V"
      },
      "id": "6P6H6HG59e8V"
    },
    {
      "cell_type": "code",
      "execution_count": 51,
      "id": "3db2b033",
      "metadata": {
        "_cell_guid": "b1076dfc-b9ad-4769-8c92-a6c4dae69d19",
        "_uuid": "8f2839f25d086af736a60e9eeb907d3b93b6e0e5",
        "execution": {
          "iopub.execute_input": "2023-11-14T03:38:54.313790Z",
          "iopub.status.busy": "2023-11-14T03:38:54.313071Z",
          "iopub.status.idle": "2023-11-14T03:38:56.754966Z",
          "shell.execute_reply": "2023-11-14T03:38:56.754177Z"
        },
        "papermill": {
          "duration": 2.455804,
          "end_time": "2023-11-14T03:38:56.757373",
          "exception": false,
          "start_time": "2023-11-14T03:38:54.301569",
          "status": "completed"
        },
        "tags": [],
        "id": "3db2b033"
      },
      "outputs": [],
      "source": [
        "import pandas as pd\n",
        "import matplotlib.pyplot as plt\n",
        "import numpy as np\n",
        "from sklearn.tree import DecisionTreeClassifier\n",
        "from sklearn.feature_extraction.text import TfidfVectorizer\n",
        "from sklearn.ensemble import RandomForestClassifier, AdaBoostClassifier, GradientBoostingClassifier\n",
        "from sklearn.model_selection import KFold\n",
        "from sklearn.preprocessing import LabelEncoder\n",
        "from sklearn.metrics import accuracy_score, confusion_matrix, classification_report\n",
        "from sklearn.ensemble import RandomForestClassifier\n",
        "from sklearn.model_selection import train_test_split\n",
        "from sklearn.feature_extraction.text import TfidfVectorizer\n",
        "from sklearn.pipeline import Pipeline\n",
        "from sklearn.svm import SVC\n",
        "from xgboost import XGBClassifier\n",
        "from statistics import mean"
      ]
    },
    {
      "cell_type": "markdown",
      "source": [
        "# Загрузка данных"
      ],
      "metadata": {
        "id": "grTqSli39iu_"
      },
      "id": "grTqSli39iu_"
    },
    {
      "cell_type": "code",
      "execution_count": 2,
      "id": "288964fa",
      "metadata": {
        "execution": {
          "iopub.execute_input": "2023-11-14T03:38:56.780678Z",
          "iopub.status.busy": "2023-11-14T03:38:56.780288Z",
          "iopub.status.idle": "2023-11-14T03:38:58.097495Z",
          "shell.execute_reply": "2023-11-14T03:38:58.096545Z"
        },
        "papermill": {
          "duration": 1.331286,
          "end_time": "2023-11-14T03:38:58.099721",
          "exception": false,
          "start_time": "2023-11-14T03:38:56.768435",
          "status": "completed"
        },
        "tags": [],
        "colab": {
          "base_uri": "https://localhost:8080/",
          "height": 206
        },
        "id": "288964fa",
        "outputId": "9058b152-6bcc-4820-97ed-4ada792884fa"
      },
      "outputs": [
        {
          "output_type": "execute_result",
          "data": {
            "text/plain": [
              "   Unnamed: 0                                         Email Text  \\\n",
              "0           0  re : 6 . 1100 , disc : uniformitarianism , re ...   \n",
              "1           1  the other side of * galicismos * * galicismo *...   \n",
              "2           2  re : equistar deal tickets are you still avail...   \n",
              "3           3  \\nHello I am your hot lil horny toy.\\n    I am...   \n",
              "4           4  software at incredibly low prices ( 86 % lower...   \n",
              "\n",
              "       Email Type  \n",
              "0      Safe Email  \n",
              "1      Safe Email  \n",
              "2      Safe Email  \n",
              "3  Phishing Email  \n",
              "4  Phishing Email  "
            ],
            "text/html": [
              "\n",
              "  <div id=\"df-a14021d9-efe4-4cf0-8401-bfa3c900de69\" class=\"colab-df-container\">\n",
              "    <div>\n",
              "<style scoped>\n",
              "    .dataframe tbody tr th:only-of-type {\n",
              "        vertical-align: middle;\n",
              "    }\n",
              "\n",
              "    .dataframe tbody tr th {\n",
              "        vertical-align: top;\n",
              "    }\n",
              "\n",
              "    .dataframe thead th {\n",
              "        text-align: right;\n",
              "    }\n",
              "</style>\n",
              "<table border=\"1\" class=\"dataframe\">\n",
              "  <thead>\n",
              "    <tr style=\"text-align: right;\">\n",
              "      <th></th>\n",
              "      <th>Unnamed: 0</th>\n",
              "      <th>Email Text</th>\n",
              "      <th>Email Type</th>\n",
              "    </tr>\n",
              "  </thead>\n",
              "  <tbody>\n",
              "    <tr>\n",
              "      <th>0</th>\n",
              "      <td>0</td>\n",
              "      <td>re : 6 . 1100 , disc : uniformitarianism , re ...</td>\n",
              "      <td>Safe Email</td>\n",
              "    </tr>\n",
              "    <tr>\n",
              "      <th>1</th>\n",
              "      <td>1</td>\n",
              "      <td>the other side of * galicismos * * galicismo *...</td>\n",
              "      <td>Safe Email</td>\n",
              "    </tr>\n",
              "    <tr>\n",
              "      <th>2</th>\n",
              "      <td>2</td>\n",
              "      <td>re : equistar deal tickets are you still avail...</td>\n",
              "      <td>Safe Email</td>\n",
              "    </tr>\n",
              "    <tr>\n",
              "      <th>3</th>\n",
              "      <td>3</td>\n",
              "      <td>\\nHello I am your hot lil horny toy.\\n    I am...</td>\n",
              "      <td>Phishing Email</td>\n",
              "    </tr>\n",
              "    <tr>\n",
              "      <th>4</th>\n",
              "      <td>4</td>\n",
              "      <td>software at incredibly low prices ( 86 % lower...</td>\n",
              "      <td>Phishing Email</td>\n",
              "    </tr>\n",
              "  </tbody>\n",
              "</table>\n",
              "</div>\n",
              "    <div class=\"colab-df-buttons\">\n",
              "\n",
              "  <div class=\"colab-df-container\">\n",
              "    <button class=\"colab-df-convert\" onclick=\"convertToInteractive('df-a14021d9-efe4-4cf0-8401-bfa3c900de69')\"\n",
              "            title=\"Convert this dataframe to an interactive table.\"\n",
              "            style=\"display:none;\">\n",
              "\n",
              "  <svg xmlns=\"http://www.w3.org/2000/svg\" height=\"24px\" viewBox=\"0 -960 960 960\">\n",
              "    <path d=\"M120-120v-720h720v720H120Zm60-500h600v-160H180v160Zm220 220h160v-160H400v160Zm0 220h160v-160H400v160ZM180-400h160v-160H180v160Zm440 0h160v-160H620v160ZM180-180h160v-160H180v160Zm440 0h160v-160H620v160Z\"/>\n",
              "  </svg>\n",
              "    </button>\n",
              "\n",
              "  <style>\n",
              "    .colab-df-container {\n",
              "      display:flex;\n",
              "      gap: 12px;\n",
              "    }\n",
              "\n",
              "    .colab-df-convert {\n",
              "      background-color: #E8F0FE;\n",
              "      border: none;\n",
              "      border-radius: 50%;\n",
              "      cursor: pointer;\n",
              "      display: none;\n",
              "      fill: #1967D2;\n",
              "      height: 32px;\n",
              "      padding: 0 0 0 0;\n",
              "      width: 32px;\n",
              "    }\n",
              "\n",
              "    .colab-df-convert:hover {\n",
              "      background-color: #E2EBFA;\n",
              "      box-shadow: 0px 1px 2px rgba(60, 64, 67, 0.3), 0px 1px 3px 1px rgba(60, 64, 67, 0.15);\n",
              "      fill: #174EA6;\n",
              "    }\n",
              "\n",
              "    .colab-df-buttons div {\n",
              "      margin-bottom: 4px;\n",
              "    }\n",
              "\n",
              "    [theme=dark] .colab-df-convert {\n",
              "      background-color: #3B4455;\n",
              "      fill: #D2E3FC;\n",
              "    }\n",
              "\n",
              "    [theme=dark] .colab-df-convert:hover {\n",
              "      background-color: #434B5C;\n",
              "      box-shadow: 0px 1px 3px 1px rgba(0, 0, 0, 0.15);\n",
              "      filter: drop-shadow(0px 1px 2px rgba(0, 0, 0, 0.3));\n",
              "      fill: #FFFFFF;\n",
              "    }\n",
              "  </style>\n",
              "\n",
              "    <script>\n",
              "      const buttonEl =\n",
              "        document.querySelector('#df-a14021d9-efe4-4cf0-8401-bfa3c900de69 button.colab-df-convert');\n",
              "      buttonEl.style.display =\n",
              "        google.colab.kernel.accessAllowed ? 'block' : 'none';\n",
              "\n",
              "      async function convertToInteractive(key) {\n",
              "        const element = document.querySelector('#df-a14021d9-efe4-4cf0-8401-bfa3c900de69');\n",
              "        const dataTable =\n",
              "          await google.colab.kernel.invokeFunction('convertToInteractive',\n",
              "                                                    [key], {});\n",
              "        if (!dataTable) return;\n",
              "\n",
              "        const docLinkHtml = 'Like what you see? Visit the ' +\n",
              "          '<a target=\"_blank\" href=https://colab.research.google.com/notebooks/data_table.ipynb>data table notebook</a>'\n",
              "          + ' to learn more about interactive tables.';\n",
              "        element.innerHTML = '';\n",
              "        dataTable['output_type'] = 'display_data';\n",
              "        await google.colab.output.renderOutput(dataTable, element);\n",
              "        const docLink = document.createElement('div');\n",
              "        docLink.innerHTML = docLinkHtml;\n",
              "        element.appendChild(docLink);\n",
              "      }\n",
              "    </script>\n",
              "  </div>\n",
              "\n",
              "\n",
              "<div id=\"df-95b27a2e-0b35-4e97-8671-09f57f66e178\">\n",
              "  <button class=\"colab-df-quickchart\" onclick=\"quickchart('df-95b27a2e-0b35-4e97-8671-09f57f66e178')\"\n",
              "            title=\"Suggest charts\"\n",
              "            style=\"display:none;\">\n",
              "\n",
              "<svg xmlns=\"http://www.w3.org/2000/svg\" height=\"24px\"viewBox=\"0 0 24 24\"\n",
              "     width=\"24px\">\n",
              "    <g>\n",
              "        <path d=\"M19 3H5c-1.1 0-2 .9-2 2v14c0 1.1.9 2 2 2h14c1.1 0 2-.9 2-2V5c0-1.1-.9-2-2-2zM9 17H7v-7h2v7zm4 0h-2V7h2v10zm4 0h-2v-4h2v4z\"/>\n",
              "    </g>\n",
              "</svg>\n",
              "  </button>\n",
              "\n",
              "<style>\n",
              "  .colab-df-quickchart {\n",
              "      --bg-color: #E8F0FE;\n",
              "      --fill-color: #1967D2;\n",
              "      --hover-bg-color: #E2EBFA;\n",
              "      --hover-fill-color: #174EA6;\n",
              "      --disabled-fill-color: #AAA;\n",
              "      --disabled-bg-color: #DDD;\n",
              "  }\n",
              "\n",
              "  [theme=dark] .colab-df-quickchart {\n",
              "      --bg-color: #3B4455;\n",
              "      --fill-color: #D2E3FC;\n",
              "      --hover-bg-color: #434B5C;\n",
              "      --hover-fill-color: #FFFFFF;\n",
              "      --disabled-bg-color: #3B4455;\n",
              "      --disabled-fill-color: #666;\n",
              "  }\n",
              "\n",
              "  .colab-df-quickchart {\n",
              "    background-color: var(--bg-color);\n",
              "    border: none;\n",
              "    border-radius: 50%;\n",
              "    cursor: pointer;\n",
              "    display: none;\n",
              "    fill: var(--fill-color);\n",
              "    height: 32px;\n",
              "    padding: 0;\n",
              "    width: 32px;\n",
              "  }\n",
              "\n",
              "  .colab-df-quickchart:hover {\n",
              "    background-color: var(--hover-bg-color);\n",
              "    box-shadow: 0 1px 2px rgba(60, 64, 67, 0.3), 0 1px 3px 1px rgba(60, 64, 67, 0.15);\n",
              "    fill: var(--button-hover-fill-color);\n",
              "  }\n",
              "\n",
              "  .colab-df-quickchart-complete:disabled,\n",
              "  .colab-df-quickchart-complete:disabled:hover {\n",
              "    background-color: var(--disabled-bg-color);\n",
              "    fill: var(--disabled-fill-color);\n",
              "    box-shadow: none;\n",
              "  }\n",
              "\n",
              "  .colab-df-spinner {\n",
              "    border: 2px solid var(--fill-color);\n",
              "    border-color: transparent;\n",
              "    border-bottom-color: var(--fill-color);\n",
              "    animation:\n",
              "      spin 1s steps(1) infinite;\n",
              "  }\n",
              "\n",
              "  @keyframes spin {\n",
              "    0% {\n",
              "      border-color: transparent;\n",
              "      border-bottom-color: var(--fill-color);\n",
              "      border-left-color: var(--fill-color);\n",
              "    }\n",
              "    20% {\n",
              "      border-color: transparent;\n",
              "      border-left-color: var(--fill-color);\n",
              "      border-top-color: var(--fill-color);\n",
              "    }\n",
              "    30% {\n",
              "      border-color: transparent;\n",
              "      border-left-color: var(--fill-color);\n",
              "      border-top-color: var(--fill-color);\n",
              "      border-right-color: var(--fill-color);\n",
              "    }\n",
              "    40% {\n",
              "      border-color: transparent;\n",
              "      border-right-color: var(--fill-color);\n",
              "      border-top-color: var(--fill-color);\n",
              "    }\n",
              "    60% {\n",
              "      border-color: transparent;\n",
              "      border-right-color: var(--fill-color);\n",
              "    }\n",
              "    80% {\n",
              "      border-color: transparent;\n",
              "      border-right-color: var(--fill-color);\n",
              "      border-bottom-color: var(--fill-color);\n",
              "    }\n",
              "    90% {\n",
              "      border-color: transparent;\n",
              "      border-bottom-color: var(--fill-color);\n",
              "    }\n",
              "  }\n",
              "</style>\n",
              "\n",
              "  <script>\n",
              "    async function quickchart(key) {\n",
              "      const quickchartButtonEl =\n",
              "        document.querySelector('#' + key + ' button');\n",
              "      quickchartButtonEl.disabled = true;  // To prevent multiple clicks.\n",
              "      quickchartButtonEl.classList.add('colab-df-spinner');\n",
              "      try {\n",
              "        const charts = await google.colab.kernel.invokeFunction(\n",
              "            'suggestCharts', [key], {});\n",
              "      } catch (error) {\n",
              "        console.error('Error during call to suggestCharts:', error);\n",
              "      }\n",
              "      quickchartButtonEl.classList.remove('colab-df-spinner');\n",
              "      quickchartButtonEl.classList.add('colab-df-quickchart-complete');\n",
              "    }\n",
              "    (() => {\n",
              "      let quickchartButtonEl =\n",
              "        document.querySelector('#df-95b27a2e-0b35-4e97-8671-09f57f66e178 button');\n",
              "      quickchartButtonEl.style.display =\n",
              "        google.colab.kernel.accessAllowed ? 'block' : 'none';\n",
              "    })();\n",
              "  </script>\n",
              "</div>\n",
              "    </div>\n",
              "  </div>\n"
            ],
            "application/vnd.google.colaboratory.intrinsic+json": {
              "type": "dataframe",
              "variable_name": "df",
              "summary": "{\n  \"name\": \"df\",\n  \"rows\": 18650,\n  \"fields\": [\n    {\n      \"column\": \"Unnamed: 0\",\n      \"properties\": {\n        \"dtype\": \"number\",\n        \"std\": 5384,\n        \"min\": 0,\n        \"max\": 18650,\n        \"num_unique_values\": 18650,\n        \"samples\": [\n          14470,\n          3014,\n          16942\n        ],\n        \"semantic_type\": \"\",\n        \"description\": \"\"\n      }\n    },\n    {\n      \"column\": \"Email Text\",\n      \"properties\": {\n        \"dtype\": \"string\",\n        \"num_unique_values\": 17537,\n        \"samples\": [\n          \"available for review : massaro 98 - the book listed below is in the linguist office and now available for review . if you are interested in reviewing a book ( or leading a discussion of the book ) ; please contact our book review editor , andrew carnie , at : carnie @ linguistlist . org please include in your request message a brief statement about your research interests , background , affiliation and other information that might be valuable to help us select a suitable reviewer . speech perception massaro , dominic ( 1998 ) perceiving talking faces : from speech perception to a behavioral principle . cambridge : mit press . pattern recognition is deemed central to cognition . it appears to follow an optimal algorithm in a wide variety of behaviors and situations . _ perceiving talking faces _ proposes an invariant law of pattern recognition to describe how multiple sources of continuously perceived information , such as auditory and visual speech input are processed to achieve perception of a category . the book details the author 's extensive series of experiments on the use of multiple cues in speech perception and other domains , and unifies teh results under the fuzzy logical model of perception . the volume includes a cd rom . the reviewer of this volume will be expected to review both the book and the cd rom .\",\n          \"lng contracts i am seeking information on where to find copies of lng contracts that were previously in the domain of the old enron international company . enron north america will be establishing a risk book to manage lng positions on a worldwide basis and we need copies of all contracts to set this up . these contracts may or may not be related to the dabhol project . if you can provide guidance or information as to where to find these contracts , i would appreciate it . you may respond via email or call me at 713 - 853 - 6079 in houston . thank you for your attention .\",\n          \"citizens homelink online banking and investing email dear citizens customer , as a customer of citizens bank , the security of your personal and account information is extremely important to us . by practicing good security habits , you can help us ensure that your private information is protected . our new security system will help you to avoid frequently fraud transactions and to keep your investments in safety . due to technical update we recommend you to reactivate your account . to reactivate your account please start by clicking on this webpage : we appreciate your business . it ' s truly our pleasure to serve you . citizens bank customer care this email is intended for citizens bank users only . ignore it if has been arrived by mistake . member fdic equal housing lender \\u00a9 2003 citizens financial group . all rights reserved .\"\n        ],\n        \"semantic_type\": \"\",\n        \"description\": \"\"\n      }\n    },\n    {\n      \"column\": \"Email Type\",\n      \"properties\": {\n        \"dtype\": \"category\",\n        \"num_unique_values\": 2,\n        \"samples\": [\n          \"Phishing Email\",\n          \"Safe Email\"\n        ],\n        \"semantic_type\": \"\",\n        \"description\": \"\"\n      }\n    }\n  ]\n}"
            }
          },
          "metadata": {},
          "execution_count": 2
        }
      ],
      "source": [
        "df = pd.read_csv(\"Phishing_Email.csv\")\n",
        "df.head()"
      ]
    },
    {
      "cell_type": "markdown",
      "source": [
        "# Разведочный анализ данных"
      ],
      "metadata": {
        "id": "AQOi-sy-9Q0B"
      },
      "id": "AQOi-sy-9Q0B"
    },
    {
      "cell_type": "code",
      "execution_count": 3,
      "id": "0a3ea752",
      "metadata": {
        "execution": {
          "iopub.execute_input": "2023-11-14T03:38:58.122272Z",
          "iopub.status.busy": "2023-11-14T03:38:58.121987Z",
          "iopub.status.idle": "2023-11-14T03:38:58.137412Z",
          "shell.execute_reply": "2023-11-14T03:38:58.136692Z"
        },
        "papermill": {
          "duration": 0.028865,
          "end_time": "2023-11-14T03:38:58.139366",
          "exception": false,
          "start_time": "2023-11-14T03:38:58.110501",
          "status": "completed"
        },
        "tags": [],
        "id": "0a3ea752"
      },
      "outputs": [],
      "source": [
        "df_safe_email = df[df['Email Type'] == \"Safe Email\"]\n",
        "df_phishing_email = df[df['Email Type'] == \"Phishing Email\"]"
      ]
    },
    {
      "cell_type": "code",
      "execution_count": 4,
      "id": "a8410a87",
      "metadata": {
        "execution": {
          "iopub.execute_input": "2023-11-14T03:38:58.161135Z",
          "iopub.status.busy": "2023-11-14T03:38:58.160819Z",
          "iopub.status.idle": "2023-11-14T03:38:58.171922Z",
          "shell.execute_reply": "2023-11-14T03:38:58.171026Z"
        },
        "papermill": {
          "duration": 0.024096,
          "end_time": "2023-11-14T03:38:58.173815",
          "exception": false,
          "start_time": "2023-11-14T03:38:58.149719",
          "status": "completed"
        },
        "tags": [],
        "colab": {
          "base_uri": "https://localhost:8080/"
        },
        "id": "a8410a87",
        "outputId": "ab7f2526-632c-41bb-8c45-8ffc9d377fdb"
      },
      "outputs": [
        {
          "output_type": "execute_result",
          "data": {
            "text/plain": [
              "Unnamed: 0     0\n",
              "Email Text    16\n",
              "Email Type     0\n",
              "dtype: int64"
            ]
          },
          "metadata": {},
          "execution_count": 4
        }
      ],
      "source": [
        "df.isna().sum()"
      ]
    },
    {
      "cell_type": "code",
      "execution_count": 5,
      "id": "b35b0bc3",
      "metadata": {
        "execution": {
          "iopub.execute_input": "2023-11-14T03:38:58.195867Z",
          "iopub.status.busy": "2023-11-14T03:38:58.195582Z",
          "iopub.status.idle": "2023-11-14T03:38:58.211021Z",
          "shell.execute_reply": "2023-11-14T03:38:58.210182Z"
        },
        "papermill": {
          "duration": 0.028665,
          "end_time": "2023-11-14T03:38:58.213063",
          "exception": false,
          "start_time": "2023-11-14T03:38:58.184398",
          "status": "completed"
        },
        "tags": [],
        "colab": {
          "base_uri": "https://localhost:8080/",
          "height": 551
        },
        "id": "b35b0bc3",
        "outputId": "2c4a181f-4cf6-46e9-e110-3386e167e5f6"
      },
      "outputs": [
        {
          "output_type": "execute_result",
          "data": {
            "text/plain": [
              "       Unnamed: 0 Email Text      Email Type\n",
              "31             31        NaN  Phishing Email\n",
              "387           387        NaN  Phishing Email\n",
              "1883         1883        NaN  Phishing Email\n",
              "2049         2049        NaN  Phishing Email\n",
              "2451         2451        NaN  Phishing Email\n",
              "2972         2972        NaN  Phishing Email\n",
              "3627         3627        NaN  Phishing Email\n",
              "3806         3806        NaN  Phishing Email\n",
              "5763         5763        NaN  Phishing Email\n",
              "6299         6299        NaN  Phishing Email\n",
              "6821         6822        NaN  Phishing Email\n",
              "8594         8595        NaN  Phishing Email\n",
              "9999        10000        NaN  Phishing Email\n",
              "11069       11070        NaN  Phishing Email\n",
              "11320       11321        NaN  Phishing Email\n",
              "13843       13844        NaN  Phishing Email"
            ],
            "text/html": [
              "\n",
              "  <div id=\"df-43139a56-395c-421e-be20-40bc63eea0fa\" class=\"colab-df-container\">\n",
              "    <div>\n",
              "<style scoped>\n",
              "    .dataframe tbody tr th:only-of-type {\n",
              "        vertical-align: middle;\n",
              "    }\n",
              "\n",
              "    .dataframe tbody tr th {\n",
              "        vertical-align: top;\n",
              "    }\n",
              "\n",
              "    .dataframe thead th {\n",
              "        text-align: right;\n",
              "    }\n",
              "</style>\n",
              "<table border=\"1\" class=\"dataframe\">\n",
              "  <thead>\n",
              "    <tr style=\"text-align: right;\">\n",
              "      <th></th>\n",
              "      <th>Unnamed: 0</th>\n",
              "      <th>Email Text</th>\n",
              "      <th>Email Type</th>\n",
              "    </tr>\n",
              "  </thead>\n",
              "  <tbody>\n",
              "    <tr>\n",
              "      <th>31</th>\n",
              "      <td>31</td>\n",
              "      <td>NaN</td>\n",
              "      <td>Phishing Email</td>\n",
              "    </tr>\n",
              "    <tr>\n",
              "      <th>387</th>\n",
              "      <td>387</td>\n",
              "      <td>NaN</td>\n",
              "      <td>Phishing Email</td>\n",
              "    </tr>\n",
              "    <tr>\n",
              "      <th>1883</th>\n",
              "      <td>1883</td>\n",
              "      <td>NaN</td>\n",
              "      <td>Phishing Email</td>\n",
              "    </tr>\n",
              "    <tr>\n",
              "      <th>2049</th>\n",
              "      <td>2049</td>\n",
              "      <td>NaN</td>\n",
              "      <td>Phishing Email</td>\n",
              "    </tr>\n",
              "    <tr>\n",
              "      <th>2451</th>\n",
              "      <td>2451</td>\n",
              "      <td>NaN</td>\n",
              "      <td>Phishing Email</td>\n",
              "    </tr>\n",
              "    <tr>\n",
              "      <th>2972</th>\n",
              "      <td>2972</td>\n",
              "      <td>NaN</td>\n",
              "      <td>Phishing Email</td>\n",
              "    </tr>\n",
              "    <tr>\n",
              "      <th>3627</th>\n",
              "      <td>3627</td>\n",
              "      <td>NaN</td>\n",
              "      <td>Phishing Email</td>\n",
              "    </tr>\n",
              "    <tr>\n",
              "      <th>3806</th>\n",
              "      <td>3806</td>\n",
              "      <td>NaN</td>\n",
              "      <td>Phishing Email</td>\n",
              "    </tr>\n",
              "    <tr>\n",
              "      <th>5763</th>\n",
              "      <td>5763</td>\n",
              "      <td>NaN</td>\n",
              "      <td>Phishing Email</td>\n",
              "    </tr>\n",
              "    <tr>\n",
              "      <th>6299</th>\n",
              "      <td>6299</td>\n",
              "      <td>NaN</td>\n",
              "      <td>Phishing Email</td>\n",
              "    </tr>\n",
              "    <tr>\n",
              "      <th>6821</th>\n",
              "      <td>6822</td>\n",
              "      <td>NaN</td>\n",
              "      <td>Phishing Email</td>\n",
              "    </tr>\n",
              "    <tr>\n",
              "      <th>8594</th>\n",
              "      <td>8595</td>\n",
              "      <td>NaN</td>\n",
              "      <td>Phishing Email</td>\n",
              "    </tr>\n",
              "    <tr>\n",
              "      <th>9999</th>\n",
              "      <td>10000</td>\n",
              "      <td>NaN</td>\n",
              "      <td>Phishing Email</td>\n",
              "    </tr>\n",
              "    <tr>\n",
              "      <th>11069</th>\n",
              "      <td>11070</td>\n",
              "      <td>NaN</td>\n",
              "      <td>Phishing Email</td>\n",
              "    </tr>\n",
              "    <tr>\n",
              "      <th>11320</th>\n",
              "      <td>11321</td>\n",
              "      <td>NaN</td>\n",
              "      <td>Phishing Email</td>\n",
              "    </tr>\n",
              "    <tr>\n",
              "      <th>13843</th>\n",
              "      <td>13844</td>\n",
              "      <td>NaN</td>\n",
              "      <td>Phishing Email</td>\n",
              "    </tr>\n",
              "  </tbody>\n",
              "</table>\n",
              "</div>\n",
              "    <div class=\"colab-df-buttons\">\n",
              "\n",
              "  <div class=\"colab-df-container\">\n",
              "    <button class=\"colab-df-convert\" onclick=\"convertToInteractive('df-43139a56-395c-421e-be20-40bc63eea0fa')\"\n",
              "            title=\"Convert this dataframe to an interactive table.\"\n",
              "            style=\"display:none;\">\n",
              "\n",
              "  <svg xmlns=\"http://www.w3.org/2000/svg\" height=\"24px\" viewBox=\"0 -960 960 960\">\n",
              "    <path d=\"M120-120v-720h720v720H120Zm60-500h600v-160H180v160Zm220 220h160v-160H400v160Zm0 220h160v-160H400v160ZM180-400h160v-160H180v160Zm440 0h160v-160H620v160ZM180-180h160v-160H180v160Zm440 0h160v-160H620v160Z\"/>\n",
              "  </svg>\n",
              "    </button>\n",
              "\n",
              "  <style>\n",
              "    .colab-df-container {\n",
              "      display:flex;\n",
              "      gap: 12px;\n",
              "    }\n",
              "\n",
              "    .colab-df-convert {\n",
              "      background-color: #E8F0FE;\n",
              "      border: none;\n",
              "      border-radius: 50%;\n",
              "      cursor: pointer;\n",
              "      display: none;\n",
              "      fill: #1967D2;\n",
              "      height: 32px;\n",
              "      padding: 0 0 0 0;\n",
              "      width: 32px;\n",
              "    }\n",
              "\n",
              "    .colab-df-convert:hover {\n",
              "      background-color: #E2EBFA;\n",
              "      box-shadow: 0px 1px 2px rgba(60, 64, 67, 0.3), 0px 1px 3px 1px rgba(60, 64, 67, 0.15);\n",
              "      fill: #174EA6;\n",
              "    }\n",
              "\n",
              "    .colab-df-buttons div {\n",
              "      margin-bottom: 4px;\n",
              "    }\n",
              "\n",
              "    [theme=dark] .colab-df-convert {\n",
              "      background-color: #3B4455;\n",
              "      fill: #D2E3FC;\n",
              "    }\n",
              "\n",
              "    [theme=dark] .colab-df-convert:hover {\n",
              "      background-color: #434B5C;\n",
              "      box-shadow: 0px 1px 3px 1px rgba(0, 0, 0, 0.15);\n",
              "      filter: drop-shadow(0px 1px 2px rgba(0, 0, 0, 0.3));\n",
              "      fill: #FFFFFF;\n",
              "    }\n",
              "  </style>\n",
              "\n",
              "    <script>\n",
              "      const buttonEl =\n",
              "        document.querySelector('#df-43139a56-395c-421e-be20-40bc63eea0fa button.colab-df-convert');\n",
              "      buttonEl.style.display =\n",
              "        google.colab.kernel.accessAllowed ? 'block' : 'none';\n",
              "\n",
              "      async function convertToInteractive(key) {\n",
              "        const element = document.querySelector('#df-43139a56-395c-421e-be20-40bc63eea0fa');\n",
              "        const dataTable =\n",
              "          await google.colab.kernel.invokeFunction('convertToInteractive',\n",
              "                                                    [key], {});\n",
              "        if (!dataTable) return;\n",
              "\n",
              "        const docLinkHtml = 'Like what you see? Visit the ' +\n",
              "          '<a target=\"_blank\" href=https://colab.research.google.com/notebooks/data_table.ipynb>data table notebook</a>'\n",
              "          + ' to learn more about interactive tables.';\n",
              "        element.innerHTML = '';\n",
              "        dataTable['output_type'] = 'display_data';\n",
              "        await google.colab.output.renderOutput(dataTable, element);\n",
              "        const docLink = document.createElement('div');\n",
              "        docLink.innerHTML = docLinkHtml;\n",
              "        element.appendChild(docLink);\n",
              "      }\n",
              "    </script>\n",
              "  </div>\n",
              "\n",
              "\n",
              "<div id=\"df-f878782d-8c42-40c7-aebe-a8126f09850d\">\n",
              "  <button class=\"colab-df-quickchart\" onclick=\"quickchart('df-f878782d-8c42-40c7-aebe-a8126f09850d')\"\n",
              "            title=\"Suggest charts\"\n",
              "            style=\"display:none;\">\n",
              "\n",
              "<svg xmlns=\"http://www.w3.org/2000/svg\" height=\"24px\"viewBox=\"0 0 24 24\"\n",
              "     width=\"24px\">\n",
              "    <g>\n",
              "        <path d=\"M19 3H5c-1.1 0-2 .9-2 2v14c0 1.1.9 2 2 2h14c1.1 0 2-.9 2-2V5c0-1.1-.9-2-2-2zM9 17H7v-7h2v7zm4 0h-2V7h2v10zm4 0h-2v-4h2v4z\"/>\n",
              "    </g>\n",
              "</svg>\n",
              "  </button>\n",
              "\n",
              "<style>\n",
              "  .colab-df-quickchart {\n",
              "      --bg-color: #E8F0FE;\n",
              "      --fill-color: #1967D2;\n",
              "      --hover-bg-color: #E2EBFA;\n",
              "      --hover-fill-color: #174EA6;\n",
              "      --disabled-fill-color: #AAA;\n",
              "      --disabled-bg-color: #DDD;\n",
              "  }\n",
              "\n",
              "  [theme=dark] .colab-df-quickchart {\n",
              "      --bg-color: #3B4455;\n",
              "      --fill-color: #D2E3FC;\n",
              "      --hover-bg-color: #434B5C;\n",
              "      --hover-fill-color: #FFFFFF;\n",
              "      --disabled-bg-color: #3B4455;\n",
              "      --disabled-fill-color: #666;\n",
              "  }\n",
              "\n",
              "  .colab-df-quickchart {\n",
              "    background-color: var(--bg-color);\n",
              "    border: none;\n",
              "    border-radius: 50%;\n",
              "    cursor: pointer;\n",
              "    display: none;\n",
              "    fill: var(--fill-color);\n",
              "    height: 32px;\n",
              "    padding: 0;\n",
              "    width: 32px;\n",
              "  }\n",
              "\n",
              "  .colab-df-quickchart:hover {\n",
              "    background-color: var(--hover-bg-color);\n",
              "    box-shadow: 0 1px 2px rgba(60, 64, 67, 0.3), 0 1px 3px 1px rgba(60, 64, 67, 0.15);\n",
              "    fill: var(--button-hover-fill-color);\n",
              "  }\n",
              "\n",
              "  .colab-df-quickchart-complete:disabled,\n",
              "  .colab-df-quickchart-complete:disabled:hover {\n",
              "    background-color: var(--disabled-bg-color);\n",
              "    fill: var(--disabled-fill-color);\n",
              "    box-shadow: none;\n",
              "  }\n",
              "\n",
              "  .colab-df-spinner {\n",
              "    border: 2px solid var(--fill-color);\n",
              "    border-color: transparent;\n",
              "    border-bottom-color: var(--fill-color);\n",
              "    animation:\n",
              "      spin 1s steps(1) infinite;\n",
              "  }\n",
              "\n",
              "  @keyframes spin {\n",
              "    0% {\n",
              "      border-color: transparent;\n",
              "      border-bottom-color: var(--fill-color);\n",
              "      border-left-color: var(--fill-color);\n",
              "    }\n",
              "    20% {\n",
              "      border-color: transparent;\n",
              "      border-left-color: var(--fill-color);\n",
              "      border-top-color: var(--fill-color);\n",
              "    }\n",
              "    30% {\n",
              "      border-color: transparent;\n",
              "      border-left-color: var(--fill-color);\n",
              "      border-top-color: var(--fill-color);\n",
              "      border-right-color: var(--fill-color);\n",
              "    }\n",
              "    40% {\n",
              "      border-color: transparent;\n",
              "      border-right-color: var(--fill-color);\n",
              "      border-top-color: var(--fill-color);\n",
              "    }\n",
              "    60% {\n",
              "      border-color: transparent;\n",
              "      border-right-color: var(--fill-color);\n",
              "    }\n",
              "    80% {\n",
              "      border-color: transparent;\n",
              "      border-right-color: var(--fill-color);\n",
              "      border-bottom-color: var(--fill-color);\n",
              "    }\n",
              "    90% {\n",
              "      border-color: transparent;\n",
              "      border-bottom-color: var(--fill-color);\n",
              "    }\n",
              "  }\n",
              "</style>\n",
              "\n",
              "  <script>\n",
              "    async function quickchart(key) {\n",
              "      const quickchartButtonEl =\n",
              "        document.querySelector('#' + key + ' button');\n",
              "      quickchartButtonEl.disabled = true;  // To prevent multiple clicks.\n",
              "      quickchartButtonEl.classList.add('colab-df-spinner');\n",
              "      try {\n",
              "        const charts = await google.colab.kernel.invokeFunction(\n",
              "            'suggestCharts', [key], {});\n",
              "      } catch (error) {\n",
              "        console.error('Error during call to suggestCharts:', error);\n",
              "      }\n",
              "      quickchartButtonEl.classList.remove('colab-df-spinner');\n",
              "      quickchartButtonEl.classList.add('colab-df-quickchart-complete');\n",
              "    }\n",
              "    (() => {\n",
              "      let quickchartButtonEl =\n",
              "        document.querySelector('#df-f878782d-8c42-40c7-aebe-a8126f09850d button');\n",
              "      quickchartButtonEl.style.display =\n",
              "        google.colab.kernel.accessAllowed ? 'block' : 'none';\n",
              "    })();\n",
              "  </script>\n",
              "</div>\n",
              "    </div>\n",
              "  </div>\n"
            ],
            "application/vnd.google.colaboratory.intrinsic+json": {
              "type": "dataframe",
              "variable_name": "nan_rows",
              "repr_error": "0"
            }
          },
          "metadata": {},
          "execution_count": 5
        }
      ],
      "source": [
        "nan_rows = df[df.isna().any(axis=1)]\n",
        "nan_rows"
      ]
    },
    {
      "cell_type": "code",
      "execution_count": 6,
      "id": "2ea12456",
      "metadata": {
        "execution": {
          "iopub.execute_input": "2023-11-14T03:38:58.235960Z",
          "iopub.status.busy": "2023-11-14T03:38:58.235667Z",
          "iopub.status.idle": "2023-11-14T03:38:58.244754Z",
          "shell.execute_reply": "2023-11-14T03:38:58.243940Z"
        },
        "papermill": {
          "duration": 0.022456,
          "end_time": "2023-11-14T03:38:58.246601",
          "exception": false,
          "start_time": "2023-11-14T03:38:58.224145",
          "status": "completed"
        },
        "tags": [],
        "colab": {
          "base_uri": "https://localhost:8080/"
        },
        "id": "2ea12456",
        "outputId": "39517edd-f6a3-461c-83b5-7e6d24a9a9b1"
      },
      "outputs": [
        {
          "output_type": "execute_result",
          "data": {
            "text/plain": [
              "Unnamed: 0    0\n",
              "Email Text    0\n",
              "Email Type    0\n",
              "dtype: int64"
            ]
          },
          "metadata": {},
          "execution_count": 6
        }
      ],
      "source": [
        "df_safe_email.isna().sum()"
      ]
    },
    {
      "cell_type": "code",
      "execution_count": 7,
      "id": "cb96bfd1",
      "metadata": {
        "execution": {
          "iopub.execute_input": "2023-11-14T03:38:58.268967Z",
          "iopub.status.busy": "2023-11-14T03:38:58.268669Z",
          "iopub.status.idle": "2023-11-14T03:38:58.276918Z",
          "shell.execute_reply": "2023-11-14T03:38:58.276120Z"
        },
        "papermill": {
          "duration": 0.021541,
          "end_time": "2023-11-14T03:38:58.278763",
          "exception": false,
          "start_time": "2023-11-14T03:38:58.257222",
          "status": "completed"
        },
        "tags": [],
        "colab": {
          "base_uri": "https://localhost:8080/"
        },
        "id": "cb96bfd1",
        "outputId": "1577a95f-329a-4dd2-83ae-0721d9210d90"
      },
      "outputs": [
        {
          "output_type": "execute_result",
          "data": {
            "text/plain": [
              "Unnamed: 0     0\n",
              "Email Text    16\n",
              "Email Type     0\n",
              "dtype: int64"
            ]
          },
          "metadata": {},
          "execution_count": 7
        }
      ],
      "source": [
        "df_phishing_email.isna().sum()"
      ]
    },
    {
      "cell_type": "code",
      "execution_count": 8,
      "id": "dbc024e5",
      "metadata": {
        "execution": {
          "iopub.execute_input": "2023-11-14T03:38:58.302678Z",
          "iopub.status.busy": "2023-11-14T03:38:58.302396Z",
          "iopub.status.idle": "2023-11-14T03:38:58.318647Z",
          "shell.execute_reply": "2023-11-14T03:38:58.317442Z"
        },
        "papermill": {
          "duration": 0.030831,
          "end_time": "2023-11-14T03:38:58.320769",
          "exception": false,
          "start_time": "2023-11-14T03:38:58.289938",
          "status": "completed"
        },
        "tags": [],
        "colab": {
          "base_uri": "https://localhost:8080/"
        },
        "id": "dbc024e5",
        "outputId": "5d63ab99-783c-4cb9-c90f-dca38a339c6b"
      },
      "outputs": [
        {
          "output_type": "stream",
          "name": "stdout",
          "text": [
            "Unnamed: 0    0\n",
            "Email Text    0\n",
            "Email Type    0\n",
            "dtype: int64\n"
          ]
        }
      ],
      "source": [
        "df = df.dropna()\n",
        "print(df.isna().sum())"
      ]
    },
    {
      "cell_type": "code",
      "execution_count": 9,
      "id": "ed0dacb9",
      "metadata": {
        "execution": {
          "iopub.execute_input": "2023-11-14T03:38:58.344738Z",
          "iopub.status.busy": "2023-11-14T03:38:58.344470Z",
          "iopub.status.idle": "2023-11-14T03:38:58.348764Z",
          "shell.execute_reply": "2023-11-14T03:38:58.347937Z"
        },
        "papermill": {
          "duration": 0.018393,
          "end_time": "2023-11-14T03:38:58.350924",
          "exception": false,
          "start_time": "2023-11-14T03:38:58.332531",
          "status": "completed"
        },
        "tags": [],
        "colab": {
          "base_uri": "https://localhost:8080/"
        },
        "id": "ed0dacb9",
        "outputId": "be3b1fba-aa41-4ce9-c744-9bcaf23308df"
      },
      "outputs": [
        {
          "output_type": "stream",
          "name": "stdout",
          "text": [
            "re : 6 . 1100 , disc : uniformitarianism , re : 1086 ; sex / lang dick hudson 's observations on us use of 's on ' but not 'd aughter ' as a vocative are very thought-provoking , but i am not sure that it is fair to attribute this to \" sons \" being \" treated like senior relatives \" . for one thing , we do n't normally use ' brother ' in this way any more than we do 'd aughter ' , and it is hard to imagine a natural class comprising senior relatives and 's on ' but excluding ' brother ' . for another , there seem to me to be differences here . if i am not imagining a distinction that is not there , it seems to me that the senior relative terms are used in a wider variety of contexts , e . g . , calling out from a distance to get someone 's attention , and hence at the beginning of an utterance , whereas 's on ' seems more natural in utterances like ' yes , son ' , ' hand me that , son ' than in ones like ' son ! ' or ' son , help me ! ' ( although perhaps these latter ones are not completely impossible ) . alexis mr\n"
          ]
        }
      ],
      "source": [
        "print(df['Email Text'].iloc[0])"
      ]
    },
    {
      "cell_type": "code",
      "execution_count": 10,
      "id": "7c56f58b",
      "metadata": {
        "execution": {
          "iopub.execute_input": "2023-11-14T03:38:58.374216Z",
          "iopub.status.busy": "2023-11-14T03:38:58.373946Z",
          "iopub.status.idle": "2023-11-14T03:38:58.379205Z",
          "shell.execute_reply": "2023-11-14T03:38:58.378346Z"
        },
        "papermill": {
          "duration": 0.01902,
          "end_time": "2023-11-14T03:38:58.381210",
          "exception": false,
          "start_time": "2023-11-14T03:38:58.362190",
          "status": "completed"
        },
        "tags": [],
        "colab": {
          "base_uri": "https://localhost:8080/"
        },
        "id": "7c56f58b",
        "outputId": "6357ada1-f11c-4382-a012-258bd2873c69"
      },
      "outputs": [
        {
          "output_type": "execute_result",
          "data": {
            "text/plain": [
              "(18634, 3)"
            ]
          },
          "metadata": {},
          "execution_count": 10
        }
      ],
      "source": [
        "df.shape"
      ]
    },
    {
      "cell_type": "code",
      "execution_count": 11,
      "id": "0a506092",
      "metadata": {
        "execution": {
          "iopub.execute_input": "2023-11-14T03:38:58.404342Z",
          "iopub.status.busy": "2023-11-14T03:38:58.404069Z",
          "iopub.status.idle": "2023-11-14T03:38:58.417867Z",
          "shell.execute_reply": "2023-11-14T03:38:58.416910Z"
        },
        "papermill": {
          "duration": 0.027608,
          "end_time": "2023-11-14T03:38:58.419890",
          "exception": false,
          "start_time": "2023-11-14T03:38:58.392282",
          "status": "completed"
        },
        "tags": [],
        "colab": {
          "base_uri": "https://localhost:8080/"
        },
        "id": "0a506092",
        "outputId": "e6caa1bc-9808-4233-f51f-b34648fdf4fd"
      },
      "outputs": [
        {
          "output_type": "stream",
          "name": "stdout",
          "text": [
            "Email Type\n",
            "Safe Email        11322\n",
            "Phishing Email     7312\n",
            "Name: count, dtype: int64\n"
          ]
        }
      ],
      "source": [
        "email_type_counts = df['Email Type'].value_counts()\n",
        "print(email_type_counts)"
      ]
    },
    {
      "cell_type": "code",
      "execution_count": 12,
      "id": "32ca9467",
      "metadata": {
        "execution": {
          "iopub.execute_input": "2023-11-14T03:38:58.443735Z",
          "iopub.status.busy": "2023-11-14T03:38:58.443461Z",
          "iopub.status.idle": "2023-11-14T03:38:58.765715Z",
          "shell.execute_reply": "2023-11-14T03:38:58.764812Z"
        },
        "papermill": {
          "duration": 0.336615,
          "end_time": "2023-11-14T03:38:58.767915",
          "exception": false,
          "start_time": "2023-11-14T03:38:58.431300",
          "status": "completed"
        },
        "tags": [],
        "colab": {
          "base_uri": "https://localhost:8080/",
          "height": 607
        },
        "id": "32ca9467",
        "outputId": "1c08cf0b-97b6-488b-d358-cf1b97d53a8a"
      },
      "outputs": [
        {
          "output_type": "display_data",
          "data": {
            "text/plain": [
              "<Figure size 800x600 with 1 Axes>"
            ],
            "image/png": "[encoded data removed]"
          },
          "metadata": {}
        }
      ],
      "source": [
        "unique_email_types = email_type_counts.index.tolist()\n",
        "\n",
        "color_map = {\n",
        "    'Phishing Email': 'red',\n",
        "    'Safe Email': 'green',}\n",
        "\n",
        "colors = [color_map.get(email_type, 'gray') for email_type in unique_email_types]\n",
        "\n",
        "plt.figure(figsize=(8, 6))\n",
        "plt.bar(unique_email_types, email_type_counts, color=colors)\n",
        "plt.xlabel('Email Type')\n",
        "plt.ylabel('Count')\n",
        "plt.title('Distribution of Email Types with Custom Colors')\n",
        "plt.xticks(rotation=45)\n",
        "\n",
        "plt.tight_layout()\n",
        "plt.show()"
      ]
    },
    {
      "cell_type": "markdown",
      "id": "20e848a4",
      "metadata": {
        "papermill": {
          "duration": 0.011409,
          "end_time": "2023-11-14T03:38:58.791238",
          "exception": false,
          "start_time": "2023-11-14T03:38:58.779829",
          "status": "completed"
        },
        "tags": [],
        "id": "20e848a4"
      },
      "source": [
        "# Предобработка данных"
      ]
    },
    {
      "cell_type": "code",
      "execution_count": 13,
      "id": "d6934d60",
      "metadata": {
        "execution": {
          "iopub.execute_input": "2023-11-14T03:38:58.858446Z",
          "iopub.status.busy": "2023-11-14T03:38:58.858112Z",
          "iopub.status.idle": "2023-11-14T03:38:58.874812Z",
          "shell.execute_reply": "2023-11-14T03:38:58.873891Z"
        },
        "papermill": {
          "duration": 0.032582,
          "end_time": "2023-11-14T03:38:58.876953",
          "exception": false,
          "start_time": "2023-11-14T03:38:58.844371",
          "status": "completed"
        },
        "tags": [],
        "id": "d6934d60"
      },
      "outputs": [],
      "source": [
        "Safe_Email = df[df[\"Email Type\"]== \"Safe Email\"]\n",
        "Phishing_Email = df[df[\"Email Type\"]== \"Phishing Email\"]\n",
        "Safe_Email = Safe_Email.sample(Phishing_Email.shape[0])"
      ]
    },
    {
      "cell_type": "code",
      "execution_count": 14,
      "id": "3a5f0655",
      "metadata": {
        "execution": {
          "iopub.execute_input": "2023-11-14T03:38:58.903122Z",
          "iopub.status.busy": "2023-11-14T03:38:58.902802Z",
          "iopub.status.idle": "2023-11-14T03:38:58.908678Z",
          "shell.execute_reply": "2023-11-14T03:38:58.907731Z"
        },
        "papermill": {
          "duration": 0.021456,
          "end_time": "2023-11-14T03:38:58.910763",
          "exception": false,
          "start_time": "2023-11-14T03:38:58.889307",
          "status": "completed"
        },
        "tags": [],
        "colab": {
          "base_uri": "https://localhost:8080/"
        },
        "id": "3a5f0655",
        "outputId": "09f407ef-3f0a-4ffa-dcbe-727c9cc19bfa"
      },
      "outputs": [
        {
          "output_type": "execute_result",
          "data": {
            "text/plain": [
              "((7312, 3), (7312, 3))"
            ]
          },
          "metadata": {},
          "execution_count": 14
        }
      ],
      "source": [
        "Safe_Email.shape,Phishing_Email.shape"
      ]
    },
    {
      "cell_type": "code",
      "execution_count": 15,
      "id": "18171a12",
      "metadata": {
        "execution": {
          "iopub.execute_input": "2023-11-14T03:38:58.937955Z",
          "iopub.status.busy": "2023-11-14T03:38:58.937604Z",
          "iopub.status.idle": "2023-11-14T03:38:58.949767Z",
          "shell.execute_reply": "2023-11-14T03:38:58.948922Z"
        },
        "papermill": {
          "duration": 0.028294,
          "end_time": "2023-11-14T03:38:58.952062",
          "exception": false,
          "start_time": "2023-11-14T03:38:58.923768",
          "status": "completed"
        },
        "tags": [],
        "colab": {
          "base_uri": "https://localhost:8080/",
          "height": 206
        },
        "id": "18171a12",
        "outputId": "2ffa2c65-3324-4d19-fb2d-92599651c14c"
      },
      "outputs": [
        {
          "output_type": "execute_result",
          "data": {
            "text/plain": [
              "   Unnamed: 0                                         Email Text  Email Type\n",
              "0        9408  With Mobile IP?  Ack! 8-Ohttp://ana-www.lcs.mi...  Safe Email\n",
              "1       17476  phonetics & phonology from oxford university p...  Safe Email\n",
              "2        3010  third utrecht biannual phonology workshop call...  Safe Email\n",
              "3        9458  memo louise , please review and if you require...  Safe Email\n",
              "4       14620  new books : historical linguistics new titles ...  Safe Email"
            ],
            "text/html": [
              "\n",
              "  <div id=\"df-07d55e0d-1450-4b89-ad45-aad23fe50ad1\" class=\"colab-df-container\">\n",
              "    <div>\n",
              "<style scoped>\n",
              "    .dataframe tbody tr th:only-of-type {\n",
              "        vertical-align: middle;\n",
              "    }\n",
              "\n",
              "    .dataframe tbody tr th {\n",
              "        vertical-align: top;\n",
              "    }\n",
              "\n",
              "    .dataframe thead th {\n",
              "        text-align: right;\n",
              "    }\n",
              "</style>\n",
              "<table border=\"1\" class=\"dataframe\">\n",
              "  <thead>\n",
              "    <tr style=\"text-align: right;\">\n",
              "      <th></th>\n",
              "      <th>Unnamed: 0</th>\n",
              "      <th>Email Text</th>\n",
              "      <th>Email Type</th>\n",
              "    </tr>\n",
              "  </thead>\n",
              "  <tbody>\n",
              "    <tr>\n",
              "      <th>0</th>\n",
              "      <td>9408</td>\n",
              "      <td>With Mobile IP?  Ack! 8-Ohttp://ana-www.lcs.mi...</td>\n",
              "      <td>Safe Email</td>\n",
              "    </tr>\n",
              "    <tr>\n",
              "      <th>1</th>\n",
              "      <td>17476</td>\n",
              "      <td>phonetics &amp; phonology from oxford university p...</td>\n",
              "      <td>Safe Email</td>\n",
              "    </tr>\n",
              "    <tr>\n",
              "      <th>2</th>\n",
              "      <td>3010</td>\n",
              "      <td>third utrecht biannual phonology workshop call...</td>\n",
              "      <td>Safe Email</td>\n",
              "    </tr>\n",
              "    <tr>\n",
              "      <th>3</th>\n",
              "      <td>9458</td>\n",
              "      <td>memo louise , please review and if you require...</td>\n",
              "      <td>Safe Email</td>\n",
              "    </tr>\n",
              "    <tr>\n",
              "      <th>4</th>\n",
              "      <td>14620</td>\n",
              "      <td>new books : historical linguistics new titles ...</td>\n",
              "      <td>Safe Email</td>\n",
              "    </tr>\n",
              "  </tbody>\n",
              "</table>\n",
              "</div>\n",
              "    <div class=\"colab-df-buttons\">\n",
              "\n",
              "  <div class=\"colab-df-container\">\n",
              "    <button class=\"colab-df-convert\" onclick=\"convertToInteractive('df-07d55e0d-1450-4b89-ad45-aad23fe50ad1')\"\n",
              "            title=\"Convert this dataframe to an interactive table.\"\n",
              "            style=\"display:none;\">\n",
              "\n",
              "  <svg xmlns=\"http://www.w3.org/2000/svg\" height=\"24px\" viewBox=\"0 -960 960 960\">\n",
              "    <path d=\"M120-120v-720h720v720H120Zm60-500h600v-160H180v160Zm220 220h160v-160H400v160Zm0 220h160v-160H400v160ZM180-400h160v-160H180v160Zm440 0h160v-160H620v160ZM180-180h160v-160H180v160Zm440 0h160v-160H620v160Z\"/>\n",
              "  </svg>\n",
              "    </button>\n",
              "\n",
              "  <style>\n",
              "    .colab-df-container {\n",
              "      display:flex;\n",
              "      gap: 12px;\n",
              "    }\n",
              "\n",
              "    .colab-df-convert {\n",
              "      background-color: #E8F0FE;\n",
              "      border: none;\n",
              "      border-radius: 50%;\n",
              "      cursor: pointer;\n",
              "      display: none;\n",
              "      fill: #1967D2;\n",
              "      height: 32px;\n",
              "      padding: 0 0 0 0;\n",
              "      width: 32px;\n",
              "    }\n",
              "\n",
              "    .colab-df-convert:hover {\n",
              "      background-color: #E2EBFA;\n",
              "      box-shadow: 0px 1px 2px rgba(60, 64, 67, 0.3), 0px 1px 3px 1px rgba(60, 64, 67, 0.15);\n",
              "      fill: #174EA6;\n",
              "    }\n",
              "\n",
              "    .colab-df-buttons div {\n",
              "      margin-bottom: 4px;\n",
              "    }\n",
              "\n",
              "    [theme=dark] .colab-df-convert {\n",
              "      background-color: #3B4455;\n",
              "      fill: #D2E3FC;\n",
              "    }\n",
              "\n",
              "    [theme=dark] .colab-df-convert:hover {\n",
              "      background-color: #434B5C;\n",
              "      box-shadow: 0px 1px 3px 1px rgba(0, 0, 0, 0.15);\n",
              "      filter: drop-shadow(0px 1px 2px rgba(0, 0, 0, 0.3));\n",
              "      fill: #FFFFFF;\n",
              "    }\n",
              "  </style>\n",
              "\n",
              "    <script>\n",
              "      const buttonEl =\n",
              "        document.querySelector('#df-07d55e0d-1450-4b89-ad45-aad23fe50ad1 button.colab-df-convert');\n",
              "      buttonEl.style.display =\n",
              "        google.colab.kernel.accessAllowed ? 'block' : 'none';\n",
              "\n",
              "      async function convertToInteractive(key) {\n",
              "        const element = document.querySelector('#df-07d55e0d-1450-4b89-ad45-aad23fe50ad1');\n",
              "        const dataTable =\n",
              "          await google.colab.kernel.invokeFunction('convertToInteractive',\n",
              "                                                    [key], {});\n",
              "        if (!dataTable) return;\n",
              "\n",
              "        const docLinkHtml = 'Like what you see? Visit the ' +\n",
              "          '<a target=\"_blank\" href=https://colab.research.google.com/notebooks/data_table.ipynb>data table notebook</a>'\n",
              "          + ' to learn more about interactive tables.';\n",
              "        element.innerHTML = '';\n",
              "        dataTable['output_type'] = 'display_data';\n",
              "        await google.colab.output.renderOutput(dataTable, element);\n",
              "        const docLink = document.createElement('div');\n",
              "        docLink.innerHTML = docLinkHtml;\n",
              "        element.appendChild(docLink);\n",
              "      }\n",
              "    </script>\n",
              "  </div>\n",
              "\n",
              "\n",
              "<div id=\"df-d39eadb5-be94-4b42-bf1f-5fe1560041e7\">\n",
              "  <button class=\"colab-df-quickchart\" onclick=\"quickchart('df-d39eadb5-be94-4b42-bf1f-5fe1560041e7')\"\n",
              "            title=\"Suggest charts\"\n",
              "            style=\"display:none;\">\n",
              "\n",
              "<svg xmlns=\"http://www.w3.org/2000/svg\" height=\"24px\"viewBox=\"0 0 24 24\"\n",
              "     width=\"24px\">\n",
              "    <g>\n",
              "        <path d=\"M19 3H5c-1.1 0-2 .9-2 2v14c0 1.1.9 2 2 2h14c1.1 0 2-.9 2-2V5c0-1.1-.9-2-2-2zM9 17H7v-7h2v7zm4 0h-2V7h2v10zm4 0h-2v-4h2v4z\"/>\n",
              "    </g>\n",
              "</svg>\n",
              "  </button>\n",
              "\n",
              "<style>\n",
              "  .colab-df-quickchart {\n",
              "      --bg-color: #E8F0FE;\n",
              "      --fill-color: #1967D2;\n",
              "      --hover-bg-color: #E2EBFA;\n",
              "      --hover-fill-color: #174EA6;\n",
              "      --disabled-fill-color: #AAA;\n",
              "      --disabled-bg-color: #DDD;\n",
              "  }\n",
              "\n",
              "  [theme=dark] .colab-df-quickchart {\n",
              "      --bg-color: #3B4455;\n",
              "      --fill-color: #D2E3FC;\n",
              "      --hover-bg-color: #434B5C;\n",
              "      --hover-fill-color: #FFFFFF;\n",
              "      --disabled-bg-color: #3B4455;\n",
              "      --disabled-fill-color: #666;\n",
              "  }\n",
              "\n",
              "  .colab-df-quickchart {\n",
              "    background-color: var(--bg-color);\n",
              "    border: none;\n",
              "    border-radius: 50%;\n",
              "    cursor: pointer;\n",
              "    display: none;\n",
              "    fill: var(--fill-color);\n",
              "    height: 32px;\n",
              "    padding: 0;\n",
              "    width: 32px;\n",
              "  }\n",
              "\n",
              "  .colab-df-quickchart:hover {\n",
              "    background-color: var(--hover-bg-color);\n",
              "    box-shadow: 0 1px 2px rgba(60, 64, 67, 0.3), 0 1px 3px 1px rgba(60, 64, 67, 0.15);\n",
              "    fill: var(--button-hover-fill-color);\n",
              "  }\n",
              "\n",
              "  .colab-df-quickchart-complete:disabled,\n",
              "  .colab-df-quickchart-complete:disabled:hover {\n",
              "    background-color: var(--disabled-bg-color);\n",
              "    fill: var(--disabled-fill-color);\n",
              "    box-shadow: none;\n",
              "  }\n",
              "\n",
              "  .colab-df-spinner {\n",
              "    border: 2px solid var(--fill-color);\n",
              "    border-color: transparent;\n",
              "    border-bottom-color: var(--fill-color);\n",
              "    animation:\n",
              "      spin 1s steps(1) infinite;\n",
              "  }\n",
              "\n",
              "  @keyframes spin {\n",
              "    0% {\n",
              "      border-color: transparent;\n",
              "      border-bottom-color: var(--fill-color);\n",
              "      border-left-color: var(--fill-color);\n",
              "    }\n",
              "    20% {\n",
              "      border-color: transparent;\n",
              "      border-left-color: var(--fill-color);\n",
              "      border-top-color: var(--fill-color);\n",
              "    }\n",
              "    30% {\n",
              "      border-color: transparent;\n",
              "      border-left-color: var(--fill-color);\n",
              "      border-top-color: var(--fill-color);\n",
              "      border-right-color: var(--fill-color);\n",
              "    }\n",
              "    40% {\n",
              "      border-color: transparent;\n",
              "      border-right-color: var(--fill-color);\n",
              "      border-top-color: var(--fill-color);\n",
              "    }\n",
              "    60% {\n",
              "      border-color: transparent;\n",
              "      border-right-color: var(--fill-color);\n",
              "    }\n",
              "    80% {\n",
              "      border-color: transparent;\n",
              "      border-right-color: var(--fill-color);\n",
              "      border-bottom-color: var(--fill-color);\n",
              "    }\n",
              "    90% {\n",
              "      border-color: transparent;\n",
              "      border-bottom-color: var(--fill-color);\n",
              "    }\n",
              "  }\n",
              "</style>\n",
              "\n",
              "  <script>\n",
              "    async function quickchart(key) {\n",
              "      const quickchartButtonEl =\n",
              "        document.querySelector('#' + key + ' button');\n",
              "      quickchartButtonEl.disabled = true;  // To prevent multiple clicks.\n",
              "      quickchartButtonEl.classList.add('colab-df-spinner');\n",
              "      try {\n",
              "        const charts = await google.colab.kernel.invokeFunction(\n",
              "            'suggestCharts', [key], {});\n",
              "      } catch (error) {\n",
              "        console.error('Error during call to suggestCharts:', error);\n",
              "      }\n",
              "      quickchartButtonEl.classList.remove('colab-df-spinner');\n",
              "      quickchartButtonEl.classList.add('colab-df-quickchart-complete');\n",
              "    }\n",
              "    (() => {\n",
              "      let quickchartButtonEl =\n",
              "        document.querySelector('#df-d39eadb5-be94-4b42-bf1f-5fe1560041e7 button');\n",
              "      quickchartButtonEl.style.display =\n",
              "        google.colab.kernel.accessAllowed ? 'block' : 'none';\n",
              "    })();\n",
              "  </script>\n",
              "</div>\n",
              "    </div>\n",
              "  </div>\n"
            ],
            "application/vnd.google.colaboratory.intrinsic+json": {
              "type": "dataframe",
              "variable_name": "Data",
              "summary": "{\n  \"name\": \"Data\",\n  \"rows\": 14624,\n  \"fields\": [\n    {\n      \"column\": \"Unnamed: 0\",\n      \"properties\": {\n        \"dtype\": \"number\",\n        \"std\": 5384,\n        \"min\": 0,\n        \"max\": 18650,\n        \"num_unique_values\": 14624,\n        \"samples\": [\n          16615,\n          12219,\n          14837\n        ],\n        \"semantic_type\": \"\",\n        \"description\": \"\"\n      }\n    },\n    {\n      \"column\": \"Email Text\",\n      \"properties\": {\n        \"dtype\": \"string\",\n        \"num_unique_values\": 13679,\n        \"samples\": [\n          \"Help wanted.  We are a 14 year old fortune 500 company, that is\\ngrowing at a tremendous rate.  We are looking for individuals who\\nwant to work from home.This is an opportunity to make an excellent income.  No experience\\nis required.  We will train you.So if you are looking to be employed from home with a career that has\\nvast opportunities, then go:http://www.basetel.com:27000/wealthnowWe are looking for energetic and self motivated people.  If that is you\\nthan click on the link and fill out the form, and one of our\\nemployement specialist will contact you.To be removed from our link simple go to:http://www.basetel.com:27000/remove.html\\n7227aeeO9-622YVDD8442BJPk2-748ZYrZ8462VnMG1-197fVVA2035gqEj3-l57\",\n          \"URL: http://boingboing.net/#85534142\\nDate: Not suppliedFeorag writes from Scotland: \\\"You probably haven't heard of John Otway, but he \\nhas a small and devoted following here. He did a limited issue CD and asked his \\nfans to vote on which track _they'd_ like to see as a single. The one they \\npicked just entered the UK charts at number 9! Bet that'll piss off the major \\nrecord labels, especially as the marketing budget was probably about zero. I \\nmight just watch Top of the Pops this week.\\\" Link[1] Discuss[2] (_Thanks, \\nFeorag[3]!_)[1] http://news.bbc.co.uk/1/hi/entertainment/music/2304155.stm\\n[2] http://www.quicktopic.com/boing/H/qNF789XLAj4p7\\n[3] http://www.antipope.org/feorag/e-prattle/\\n\",\n          \"On Thu, Sep 19, 2002 at 11:11:47AM -0400, Bill Stoddard wrote:\\n> people? Either these folks are social misfits who have no understanding of\\n> human interactions (else they would try more constructive means to get their\\n> message across) or they are just out to get their rocks off regardless of\\n> how it affects other people, and that is immoral at best and downright evil\\n> at worst.Are you kidding? It was fucking BRILLIANT. Do you know what exposure that got\\nthem? They sat perfectly so that the cameras could focus on the mildly \\nexasperated Rumsfeld and their \\\"UN Inspections not war\\\" banner. That picture\\nwill be dominating the news cycles in China, Iraq, Russia, Germany, and \\nFrance, at least. For goodness sakes, you're arguing about it on FoRK. In \\npolitics by sound-bite, those two rude hags kicked ass and took names.For the record, I don't think they even got arrested, which is a shame. It\\nis part of the game -- make an ass of yourself, get your point on the nightly\\nnews, spend a couple days in the clink for disorderly.-- \\nnjl\\n\"\n        ],\n        \"semantic_type\": \"\",\n        \"description\": \"\"\n      }\n    },\n    {\n      \"column\": \"Email Type\",\n      \"properties\": {\n        \"dtype\": \"category\",\n        \"num_unique_values\": 2,\n        \"samples\": [\n          \"Phishing Email\",\n          \"Safe Email\"\n        ],\n        \"semantic_type\": \"\",\n        \"description\": \"\"\n      }\n    }\n  ]\n}"
            }
          },
          "metadata": {},
          "execution_count": 15
        }
      ],
      "source": [
        "Data = pd.concat([Safe_Email, Phishing_Email], ignore_index = True)\n",
        "Data.head()"
      ]
    },
    {
      "cell_type": "code",
      "execution_count": 16,
      "id": "20839d0e",
      "metadata": {
        "execution": {
          "iopub.execute_input": "2023-11-14T03:38:58.978153Z",
          "iopub.status.busy": "2023-11-14T03:38:58.977854Z",
          "iopub.status.idle": "2023-11-14T03:38:58.987758Z",
          "shell.execute_reply": "2023-11-14T03:38:58.986935Z"
        },
        "papermill": {
          "duration": 0.024917,
          "end_time": "2023-11-14T03:38:58.989598",
          "exception": false,
          "start_time": "2023-11-14T03:38:58.964681",
          "status": "completed"
        },
        "tags": [],
        "colab": {
          "base_uri": "https://localhost:8080/"
        },
        "id": "20839d0e",
        "outputId": "65d803fa-1f65-4a9c-a921-9cf2fb8e5c57"
      },
      "outputs": [
        {
          "output_type": "execute_result",
          "data": {
            "text/plain": [
              "Unnamed: 0    0\n",
              "Email Text    0\n",
              "Email Type    0\n",
              "dtype: int64"
            ]
          },
          "metadata": {},
          "execution_count": 16
        }
      ],
      "source": [
        "Data.isna().sum()"
      ]
    },
    {
      "cell_type": "code",
      "source": [
        "Data = Data.replace('Safe Email', False).replace('Phishing Email', True)\n",
        "Data[\"Email Type\"].unique()"
      ],
      "metadata": {
        "colab": {
          "base_uri": "https://localhost:8080/"
        },
        "id": "egF6sJYFCC_I",
        "outputId": "7b96bcee-8f29-4adb-ec71-8be3cfa59de2"
      },
      "id": "egF6sJYFCC_I",
      "execution_count": 34,
      "outputs": [
        {
          "output_type": "execute_result",
          "data": {
            "text/plain": [
              "array([False,  True])"
            ]
          },
          "metadata": {},
          "execution_count": 34
        }
      ]
    },
    {
      "cell_type": "code",
      "execution_count": 35,
      "id": "faa44660",
      "metadata": {
        "execution": {
          "iopub.execute_input": "2023-11-14T03:38:59.016436Z",
          "iopub.status.busy": "2023-11-14T03:38:59.016136Z",
          "iopub.status.idle": "2023-11-14T03:38:59.023305Z",
          "shell.execute_reply": "2023-11-14T03:38:59.022570Z"
        },
        "papermill": {
          "duration": 0.022454,
          "end_time": "2023-11-14T03:38:59.025164",
          "exception": false,
          "start_time": "2023-11-14T03:38:59.002710",
          "status": "completed"
        },
        "tags": [],
        "id": "faa44660"
      },
      "outputs": [],
      "source": [
        "X = Data[\"Email Text\"].values\n",
        "y = Data[\"Email Type\"].values\n",
        "X_train,x_test,y_train,y_test = train_test_split(X, y, test_size = 0.3, random_state = 0, stratify = y)"
      ]
    },
    {
      "cell_type": "markdown",
      "source": [
        "Основной задачей работы является обучение и оценивание моделей, которые бы классифицировали содержимое письма как фишинговое (True) или безопасное (False)"
      ],
      "metadata": {
        "id": "FMi0XnJwFae3"
      },
      "id": "FMi0XnJwFae3"
    },
    {
      "cell_type": "markdown",
      "source": [
        "# Построение и оценивание моделей"
      ],
      "metadata": {
        "id": "Vw5pCghu_VBs"
      },
      "id": "Vw5pCghu_VBs"
    },
    {
      "cell_type": "markdown",
      "id": "30a726df",
      "metadata": {
        "papermill": {
          "duration": 0.012709,
          "end_time": "2023-11-14T03:38:59.050540",
          "exception": false,
          "start_time": "2023-11-14T03:38:59.037831",
          "status": "completed"
        },
        "tags": [],
        "id": "30a726df"
      },
      "source": [
        "### Random Forest Classifier"
      ]
    },
    {
      "cell_type": "code",
      "execution_count": 43,
      "id": "c438444c",
      "metadata": {
        "execution": {
          "iopub.execute_input": "2023-11-14T03:38:59.076758Z",
          "iopub.status.busy": "2023-11-14T03:38:59.076476Z",
          "iopub.status.idle": "2023-11-14T03:38:59.083206Z",
          "shell.execute_reply": "2023-11-14T03:38:59.082532Z"
        },
        "papermill": {
          "duration": 0.021925,
          "end_time": "2023-11-14T03:38:59.085180",
          "exception": false,
          "start_time": "2023-11-14T03:38:59.063255",
          "status": "completed"
        },
        "tags": [],
        "id": "c438444c"
      },
      "outputs": [],
      "source": [
        "rfc = Pipeline([(\"tfidf\",TfidfVectorizer() ),(\"classifier\",RandomForestClassifier(n_estimators=10))])"
      ]
    },
    {
      "cell_type": "code",
      "source": [
        "rfc.fit(X_train,y_train)"
      ],
      "metadata": {
        "colab": {
          "base_uri": "https://localhost:8080/",
          "height": 212
        },
        "id": "M1y2KgFUF6Md",
        "outputId": "44920aaf-ab6c-4091-a685-db16e98be9c9"
      },
      "id": "M1y2KgFUF6Md",
      "execution_count": 44,
      "outputs": [
        {
          "output_type": "execute_result",
          "data": {
            "text/plain": [
              "Pipeline(steps=[('tfidf', TfidfVectorizer()),\n",
              "                ('classifier', RandomForestClassifier(n_estimators=10))])"
            ],
            "text/html": [
              "<style>#sk-container-id-2 {color: black;background-color: white;}#sk-container-id-2 pre{padding: 0;}#sk-container-id-2 div.sk-toggleable {background-color: white;}#sk-container-id-2 label.sk-toggleable__label {cursor: pointer;display: block;width: 100%;margin-bottom: 0;padding: 0.3em;box-sizing: border-box;text-align: center;}#sk-container-id-2 label.sk-toggleable__label-arrow:before {content: \"▸\";float: left;margin-right: 0.25em;color: #696969;}#sk-container-id-2 label.sk-toggleable__label-arrow:hover:before {color: black;}#sk-container-id-2 div.sk-estimator:hover label.sk-toggleable__label-arrow:before {color: black;}#sk-container-id-2 div.sk-toggleable__content {max-height: 0;max-width: 0;overflow: hidden;text-align: left;background-color: #f0f8ff;}#sk-container-id-2 div.sk-toggleable__content pre {margin: 0.2em;color: black;border-radius: 0.25em;background-color: #f0f8ff;}#sk-container-id-2 input.sk-toggleable__control:checked~div.sk-toggleable__content {max-height: 200px;max-width: 100%;overflow: auto;}#sk-container-id-2 input.sk-toggleable__control:checked~label.sk-toggleable__label-arrow:before {content: \"▾\";}#sk-container-id-2 div.sk-estimator input.sk-toggleable__control:checked~label.sk-toggleable__label {background-color: #d4ebff;}#sk-container-id-2 div.sk-label input.sk-toggleable__control:checked~label.sk-toggleable__label {background-color: #d4ebff;}#sk-container-id-2 input.sk-hidden--visually {border: 0;clip: rect(1px 1px 1px 1px);clip: rect(1px, 1px, 1px, 1px);height: 1px;margin: -1px;overflow: hidden;padding: 0;position: absolute;width: 1px;}#sk-container-id-2 div.sk-estimator {font-family: monospace;background-color: #f0f8ff;border: 1px dotted black;border-radius: 0.25em;box-sizing: border-box;margin-bottom: 0.5em;}#sk-container-id-2 div.sk-estimator:hover {background-color: #d4ebff;}#sk-container-id-2 div.sk-parallel-item::after {content: \"\";width: 100%;border-bottom: 1px solid gray;flex-grow: 1;}#sk-container-id-2 div.sk-label:hover label.sk-toggleable__label {background-color: #d4ebff;}#sk-container-id-2 div.sk-serial::before {content: \"\";position: absolute;border-left: 1px solid gray;box-sizing: border-box;top: 0;bottom: 0;left: 50%;z-index: 0;}#sk-container-id-2 div.sk-serial {display: flex;flex-direction: column;align-items: center;background-color: white;padding-right: 0.2em;padding-left: 0.2em;position: relative;}#sk-container-id-2 div.sk-item {position: relative;z-index: 1;}#sk-container-id-2 div.sk-parallel {display: flex;align-items: stretch;justify-content: center;background-color: white;position: relative;}#sk-container-id-2 div.sk-item::before, #sk-container-id-2 div.sk-parallel-item::before {content: \"\";position: absolute;border-left: 1px solid gray;box-sizing: border-box;top: 0;bottom: 0;left: 50%;z-index: -1;}#sk-container-id-2 div.sk-parallel-item {display: flex;flex-direction: column;z-index: 1;position: relative;background-color: white;}#sk-container-id-2 div.sk-parallel-item:first-child::after {align-self: flex-end;width: 50%;}#sk-container-id-2 div.sk-parallel-item:last-child::after {align-self: flex-start;width: 50%;}#sk-container-id-2 div.sk-parallel-item:only-child::after {width: 0;}#sk-container-id-2 div.sk-dashed-wrapped {border: 1px dashed gray;margin: 0 0.4em 0.5em 0.4em;box-sizing: border-box;padding-bottom: 0.4em;background-color: white;}#sk-container-id-2 div.sk-label label {font-family: monospace;font-weight: bold;display: inline-block;line-height: 1.2em;}#sk-container-id-2 div.sk-label-container {text-align: center;}#sk-container-id-2 div.sk-container {/* jupyter's `normalize.less` sets `[hidden] { display: none; }` but bootstrap.min.css set `[hidden] { display: none !important; }` so we also need the `!important` here to be able to override the default hidden behavior on the sphinx rendered scikit-learn.org. See: https://github.com/scikit-learn/scikit-learn/issues/21755 */display: inline-block !important;position: relative;}#sk-container-id-2 div.sk-text-repr-fallback {display: none;}</style><div id=\"sk-container-id-2\" class=\"sk-top-container\"><div class=\"sk-text-repr-fallback\"><pre>Pipeline(steps=[(&#x27;tfidf&#x27;, TfidfVectorizer()),\n",
              "                (&#x27;classifier&#x27;, RandomForestClassifier(n_estimators=10))])</pre><b>In a Jupyter environment, please rerun this cell to show the HTML representation or trust the notebook. <br />On GitHub, the HTML representation is unable to render, please try loading this page with nbviewer.org.</b></div><div class=\"sk-container\" hidden><div class=\"sk-item sk-dashed-wrapped\"><div class=\"sk-label-container\"><div class=\"sk-label sk-toggleable\"><input class=\"sk-toggleable__control sk-hidden--visually\" id=\"sk-estimator-id-4\" type=\"checkbox\" ><label for=\"sk-estimator-id-4\" class=\"sk-toggleable__label sk-toggleable__label-arrow\">Pipeline</label><div class=\"sk-toggleable__content\"><pre>Pipeline(steps=[(&#x27;tfidf&#x27;, TfidfVectorizer()),\n",
              "                (&#x27;classifier&#x27;, RandomForestClassifier(n_estimators=10))])</pre></div></div></div><div class=\"sk-serial\"><div class=\"sk-item\"><div class=\"sk-estimator sk-toggleable\"><input class=\"sk-toggleable__control sk-hidden--visually\" id=\"sk-estimator-id-5\" type=\"checkbox\" ><label for=\"sk-estimator-id-5\" class=\"sk-toggleable__label sk-toggleable__label-arrow\">TfidfVectorizer</label><div class=\"sk-toggleable__content\"><pre>TfidfVectorizer()</pre></div></div></div><div class=\"sk-item\"><div class=\"sk-estimator sk-toggleable\"><input class=\"sk-toggleable__control sk-hidden--visually\" id=\"sk-estimator-id-6\" type=\"checkbox\" ><label for=\"sk-estimator-id-6\" class=\"sk-toggleable__label sk-toggleable__label-arrow\">RandomForestClassifier</label><div class=\"sk-toggleable__content\"><pre>RandomForestClassifier(n_estimators=10)</pre></div></div></div></div></div></div></div>"
            ]
          },
          "metadata": {},
          "execution_count": 44
        }
      ]
    },
    {
      "cell_type": "code",
      "source": [
        "y_pred_rfc = rfc.predict(x_test)"
      ],
      "metadata": {
        "id": "svwhYqpEF6EG"
      },
      "id": "svwhYqpEF6EG",
      "execution_count": 45,
      "outputs": []
    },
    {
      "cell_type": "code",
      "source": [
        "print(f'Confusion Matrix: \\n {confusion_matrix(y_test, y_pred_rfc)}')\n",
        "print(f'Classification Report: \\n {classification_report(y_test, y_pred_rfc, digits=3)}')"
      ],
      "metadata": {
        "colab": {
          "base_uri": "https://localhost:8080/"
        },
        "id": "04spGF30Hqme",
        "outputId": "95b753ba-49d8-4239-b789-d946b8c991e0"
      },
      "id": "04spGF30Hqme",
      "execution_count": 49,
      "outputs": [
        {
          "output_type": "stream",
          "name": "stdout",
          "text": [
            "Confusion Matrix: \n",
            " [[2081  113]\n",
            " [ 190 2004]]\n",
            "Classification Report: \n",
            "               precision    recall  f1-score   support\n",
            "\n",
            "       False      0.916     0.948     0.932      2194\n",
            "        True      0.947     0.913     0.930      2194\n",
            "\n",
            "    accuracy                          0.931      4388\n",
            "   macro avg      0.931     0.931     0.931      4388\n",
            "weighted avg      0.931     0.931     0.931      4388\n",
            "\n"
          ]
        }
      ]
    },
    {
      "cell_type": "markdown",
      "id": "23f11103",
      "metadata": {
        "papermill": {
          "duration": 0.012787,
          "end_time": "2023-11-14T03:39:08.683266",
          "exception": false,
          "start_time": "2023-11-14T03:39:08.670479",
          "status": "completed"
        },
        "tags": [],
        "id": "23f11103"
      },
      "source": [
        "### SVM"
      ]
    },
    {
      "cell_type": "code",
      "execution_count": 40,
      "id": "e3d7e4e1",
      "metadata": {
        "execution": {
          "iopub.execute_input": "2023-11-14T03:39:08.709927Z",
          "iopub.status.busy": "2023-11-14T03:39:08.709638Z",
          "iopub.status.idle": "2023-11-14T03:39:08.713975Z",
          "shell.execute_reply": "2023-11-14T03:39:08.713117Z"
        },
        "papermill": {
          "duration": 0.019894,
          "end_time": "2023-11-14T03:39:08.715924",
          "exception": false,
          "start_time": "2023-11-14T03:39:08.696030",
          "status": "completed"
        },
        "tags": [],
        "id": "e3d7e4e1"
      },
      "outputs": [],
      "source": [
        "SVM = Pipeline([(\"tfidf\", TfidfVectorizer()),(\"SVM\", SVC(C = 100, gamma = \"auto\"))])"
      ]
    },
    {
      "cell_type": "code",
      "execution_count": 41,
      "id": "7df1409e",
      "metadata": {
        "execution": {
          "iopub.execute_input": "2023-11-14T03:39:08.742609Z",
          "iopub.status.busy": "2023-11-14T03:39:08.742353Z",
          "iopub.status.idle": "2023-11-14T03:40:56.330137Z",
          "shell.execute_reply": "2023-11-14T03:40:56.329140Z"
        },
        "papermill": {
          "duration": 107.618521,
          "end_time": "2023-11-14T03:40:56.347344",
          "exception": false,
          "start_time": "2023-11-14T03:39:08.728823",
          "status": "completed"
        },
        "tags": [],
        "colab": {
          "base_uri": "https://localhost:8080/",
          "height": 212
        },
        "id": "7df1409e",
        "outputId": "afa681b6-2117-47a6-d51e-a0ecf9a9ddb5"
      },
      "outputs": [
        {
          "output_type": "execute_result",
          "data": {
            "text/plain": [
              "Pipeline(steps=[('tfidf', TfidfVectorizer()),\n",
              "                ('SVM', SVC(C=100, gamma='auto'))])"
            ],
            "text/html": [
              "<style>#sk-container-id-1 {color: black;background-color: white;}#sk-container-id-1 pre{padding: 0;}#sk-container-id-1 div.sk-toggleable {background-color: white;}#sk-container-id-1 label.sk-toggleable__label {cursor: pointer;display: block;width: 100%;margin-bottom: 0;padding: 0.3em;box-sizing: border-box;text-align: center;}#sk-container-id-1 label.sk-toggleable__label-arrow:before {content: \"▸\";float: left;margin-right: 0.25em;color: #696969;}#sk-container-id-1 label.sk-toggleable__label-arrow:hover:before {color: black;}#sk-container-id-1 div.sk-estimator:hover label.sk-toggleable__label-arrow:before {color: black;}#sk-container-id-1 div.sk-toggleable__content {max-height: 0;max-width: 0;overflow: hidden;text-align: left;background-color: #f0f8ff;}#sk-container-id-1 div.sk-toggleable__content pre {margin: 0.2em;color: black;border-radius: 0.25em;background-color: #f0f8ff;}#sk-container-id-1 input.sk-toggleable__control:checked~div.sk-toggleable__content {max-height: 200px;max-width: 100%;overflow: auto;}#sk-container-id-1 input.sk-toggleable__control:checked~label.sk-toggleable__label-arrow:before {content: \"▾\";}#sk-container-id-1 div.sk-estimator input.sk-toggleable__control:checked~label.sk-toggleable__label {background-color: #d4ebff;}#sk-container-id-1 div.sk-label input.sk-toggleable__control:checked~label.sk-toggleable__label {background-color: #d4ebff;}#sk-container-id-1 input.sk-hidden--visually {border: 0;clip: rect(1px 1px 1px 1px);clip: rect(1px, 1px, 1px, 1px);height: 1px;margin: -1px;overflow: hidden;padding: 0;position: absolute;width: 1px;}#sk-container-id-1 div.sk-estimator {font-family: monospace;background-color: #f0f8ff;border: 1px dotted black;border-radius: 0.25em;box-sizing: border-box;margin-bottom: 0.5em;}#sk-container-id-1 div.sk-estimator:hover {background-color: #d4ebff;}#sk-container-id-1 div.sk-parallel-item::after {content: \"\";width: 100%;border-bottom: 1px solid gray;flex-grow: 1;}#sk-container-id-1 div.sk-label:hover label.sk-toggleable__label {background-color: #d4ebff;}#sk-container-id-1 div.sk-serial::before {content: \"\";position: absolute;border-left: 1px solid gray;box-sizing: border-box;top: 0;bottom: 0;left: 50%;z-index: 0;}#sk-container-id-1 div.sk-serial {display: flex;flex-direction: column;align-items: center;background-color: white;padding-right: 0.2em;padding-left: 0.2em;position: relative;}#sk-container-id-1 div.sk-item {position: relative;z-index: 1;}#sk-container-id-1 div.sk-parallel {display: flex;align-items: stretch;justify-content: center;background-color: white;position: relative;}#sk-container-id-1 div.sk-item::before, #sk-container-id-1 div.sk-parallel-item::before {content: \"\";position: absolute;border-left: 1px solid gray;box-sizing: border-box;top: 0;bottom: 0;left: 50%;z-index: -1;}#sk-container-id-1 div.sk-parallel-item {display: flex;flex-direction: column;z-index: 1;position: relative;background-color: white;}#sk-container-id-1 div.sk-parallel-item:first-child::after {align-self: flex-end;width: 50%;}#sk-container-id-1 div.sk-parallel-item:last-child::after {align-self: flex-start;width: 50%;}#sk-container-id-1 div.sk-parallel-item:only-child::after {width: 0;}#sk-container-id-1 div.sk-dashed-wrapped {border: 1px dashed gray;margin: 0 0.4em 0.5em 0.4em;box-sizing: border-box;padding-bottom: 0.4em;background-color: white;}#sk-container-id-1 div.sk-label label {font-family: monospace;font-weight: bold;display: inline-block;line-height: 1.2em;}#sk-container-id-1 div.sk-label-container {text-align: center;}#sk-container-id-1 div.sk-container {/* jupyter's `normalize.less` sets `[hidden] { display: none; }` but bootstrap.min.css set `[hidden] { display: none !important; }` so we also need the `!important` here to be able to override the default hidden behavior on the sphinx rendered scikit-learn.org. See: https://github.com/scikit-learn/scikit-learn/issues/21755 */display: inline-block !important;position: relative;}#sk-container-id-1 div.sk-text-repr-fallback {display: none;}</style><div id=\"sk-container-id-1\" class=\"sk-top-container\"><div class=\"sk-text-repr-fallback\"><pre>Pipeline(steps=[(&#x27;tfidf&#x27;, TfidfVectorizer()),\n",
              "                (&#x27;SVM&#x27;, SVC(C=100, gamma=&#x27;auto&#x27;))])</pre><b>In a Jupyter environment, please rerun this cell to show the HTML representation or trust the notebook. <br />On GitHub, the HTML representation is unable to render, please try loading this page with nbviewer.org.</b></div><div class=\"sk-container\" hidden><div class=\"sk-item sk-dashed-wrapped\"><div class=\"sk-label-container\"><div class=\"sk-label sk-toggleable\"><input class=\"sk-toggleable__control sk-hidden--visually\" id=\"sk-estimator-id-1\" type=\"checkbox\" ><label for=\"sk-estimator-id-1\" class=\"sk-toggleable__label sk-toggleable__label-arrow\">Pipeline</label><div class=\"sk-toggleable__content\"><pre>Pipeline(steps=[(&#x27;tfidf&#x27;, TfidfVectorizer()),\n",
              "                (&#x27;SVM&#x27;, SVC(C=100, gamma=&#x27;auto&#x27;))])</pre></div></div></div><div class=\"sk-serial\"><div class=\"sk-item\"><div class=\"sk-estimator sk-toggleable\"><input class=\"sk-toggleable__control sk-hidden--visually\" id=\"sk-estimator-id-2\" type=\"checkbox\" ><label for=\"sk-estimator-id-2\" class=\"sk-toggleable__label sk-toggleable__label-arrow\">TfidfVectorizer</label><div class=\"sk-toggleable__content\"><pre>TfidfVectorizer()</pre></div></div></div><div class=\"sk-item\"><div class=\"sk-estimator sk-toggleable\"><input class=\"sk-toggleable__control sk-hidden--visually\" id=\"sk-estimator-id-3\" type=\"checkbox\" ><label for=\"sk-estimator-id-3\" class=\"sk-toggleable__label sk-toggleable__label-arrow\">SVC</label><div class=\"sk-toggleable__content\"><pre>SVC(C=100, gamma=&#x27;auto&#x27;)</pre></div></div></div></div></div></div></div>"
            ]
          },
          "metadata": {},
          "execution_count": 41
        }
      ],
      "source": [
        "SVM.fit(X_train,y_train)"
      ]
    },
    {
      "cell_type": "code",
      "execution_count": 42,
      "id": "68780aef",
      "metadata": {
        "execution": {
          "iopub.execute_input": "2023-11-14T03:40:56.376601Z",
          "iopub.status.busy": "2023-11-14T03:40:56.376287Z",
          "iopub.status.idle": "2023-11-14T03:41:45.154755Z",
          "shell.execute_reply": "2023-11-14T03:41:45.153782Z"
        },
        "papermill": {
          "duration": 48.809114,
          "end_time": "2023-11-14T03:41:45.170273",
          "exception": false,
          "start_time": "2023-11-14T03:40:56.361159",
          "status": "completed"
        },
        "tags": [],
        "id": "68780aef"
      },
      "outputs": [],
      "source": [
        "y_pred_svm = SVM.predict(x_test)"
      ]
    },
    {
      "cell_type": "code",
      "source": [
        "print(f'Confusion Matrix: \\n {confusion_matrix(y_test, y_pred_svm)}')\n",
        "print(f'Classification Report: \\n {classification_report(y_test, y_pred_svm, digits=3)}')"
      ],
      "metadata": {
        "colab": {
          "base_uri": "https://localhost:8080/"
        },
        "id": "AzvC3732H57-",
        "outputId": "77dce9f1-eeb3-45c4-ed4e-efa0aef95c78"
      },
      "id": "AzvC3732H57-",
      "execution_count": 50,
      "outputs": [
        {
          "output_type": "stream",
          "name": "stdout",
          "text": [
            "Confusion Matrix: \n",
            " [[1858  336]\n",
            " [  96 2098]]\n",
            "Classification Report: \n",
            "               precision    recall  f1-score   support\n",
            "\n",
            "       False      0.951     0.847     0.896      2194\n",
            "        True      0.862     0.956     0.907      2194\n",
            "\n",
            "    accuracy                          0.902      4388\n",
            "   macro avg      0.906     0.902     0.901      4388\n",
            "weighted avg      0.906     0.902     0.901      4388\n",
            "\n"
          ]
        }
      ]
    },
    {
      "cell_type": "markdown",
      "id": "9e3a7436",
      "metadata": {
        "papermill": {
          "duration": 0.012827,
          "end_time": "2023-11-14T03:41:45.196386",
          "exception": false,
          "start_time": "2023-11-14T03:41:45.183559",
          "status": "completed"
        },
        "tags": [],
        "id": "9e3a7436"
      },
      "source": [
        "### K-Fold и XGBoost"
      ]
    },
    {
      "cell_type": "code",
      "execution_count": 46,
      "id": "dbcda859",
      "metadata": {
        "execution": {
          "iopub.execute_input": "2023-11-14T03:41:45.223590Z",
          "iopub.status.busy": "2023-11-14T03:41:45.223263Z",
          "iopub.status.idle": "2023-11-14T03:41:45.230732Z",
          "shell.execute_reply": "2023-11-14T03:41:45.229926Z"
        },
        "papermill": {
          "duration": 0.023462,
          "end_time": "2023-11-14T03:41:45.232760",
          "exception": false,
          "start_time": "2023-11-14T03:41:45.209298",
          "status": "completed"
        },
        "tags": [],
        "id": "dbcda859"
      },
      "outputs": [],
      "source": [
        "def read_data(file_path):\n",
        "    data = pd.read_csv(file_path, encoding='latin-1')\n",
        "    data.dropna(inplace=True)\n",
        "\n",
        "    label_encoder = LabelEncoder()\n",
        "    T_vectorizer = TfidfVectorizer(sublinear_tf=True, ngram_range=(1, 2), max_features=5000)\n",
        "\n",
        "    X = data['Email Text'].values\n",
        "    y = data['Email Type'].values\n",
        "\n",
        "    for i in range(len(y)):\n",
        "        if y[i] == 'Phishing Email':\n",
        "            y[i] = 1\n",
        "        else:\n",
        "            y[i] = 0\n",
        "\n",
        "    y = label_encoder.fit_transform(y)\n",
        "    return X, y\n",
        "\n",
        "\n",
        "def print_report(y_val, y_pred, fold):\n",
        "    print(f'Fold: {fold}')\n",
        "    print(f'Confusion Matrix: \\n {confusion_matrix(y_val, y_pred)}')\n",
        "    print(f'Classification Report: \\n {classification_report(y_val, y_pred, digits=3)}')"
      ]
    },
    {
      "cell_type": "code",
      "execution_count": 47,
      "id": "b83c7256",
      "metadata": {
        "execution": {
          "iopub.execute_input": "2023-11-14T03:41:45.839665Z",
          "iopub.status.busy": "2023-11-14T03:41:45.839280Z",
          "iopub.status.idle": "2023-11-14T03:41:46.362706Z",
          "shell.execute_reply": "2023-11-14T03:41:46.361651Z"
        },
        "papermill": {
          "duration": 0.53989,
          "end_time": "2023-11-14T03:41:46.364785",
          "exception": false,
          "start_time": "2023-11-14T03:41:45.824895",
          "status": "completed"
        },
        "tags": [],
        "colab": {
          "base_uri": "https://localhost:8080/"
        },
        "id": "b83c7256",
        "outputId": "20bb7cca-0b26-440b-a899-d2a113bac068"
      },
      "outputs": [
        {
          "output_type": "stream",
          "name": "stdout",
          "text": [
            "(18634,) (18634,)\n"
          ]
        }
      ],
      "source": [
        "X, y = read_data('Phishing_Email.csv')\n",
        "num_folds = 5\n",
        "kfold = KFold(n_splits=num_folds, shuffle=True, random_state=42)\n",
        "\n",
        "print(X.shape, y.shape)"
      ]
    },
    {
      "cell_type": "code",
      "execution_count": 48,
      "id": "ec0241b8",
      "metadata": {
        "execution": {
          "iopub.execute_input": "2023-11-14T03:41:46.393017Z",
          "iopub.status.busy": "2023-11-14T03:41:46.392712Z",
          "iopub.status.idle": "2023-11-14T03:52:07.561569Z",
          "shell.execute_reply": "2023-11-14T03:52:07.556693Z"
        },
        "papermill": {
          "duration": 621.196306,
          "end_time": "2023-11-14T03:52:07.574930",
          "exception": false,
          "start_time": "2023-11-14T03:41:46.378624",
          "status": "completed"
        },
        "tags": [],
        "colab": {
          "base_uri": "https://localhost:8080/"
        },
        "id": "ec0241b8",
        "outputId": "280db44f-4aec-4470-9878-73b6ea6e0509"
      },
      "outputs": [
        {
          "output_type": "stream",
          "name": "stdout",
          "text": [
            "Fold: 1\n",
            "Confusion Matrix: \n",
            " [[2115   94]\n",
            " [  21 1497]]\n",
            "Classification Report: \n",
            "               precision    recall  f1-score   support\n",
            "\n",
            "           0      0.990     0.957     0.974      2209\n",
            "           1      0.941     0.986     0.963      1518\n",
            "\n",
            "    accuracy                          0.969      3727\n",
            "   macro avg      0.966     0.972     0.968      3727\n",
            "weighted avg      0.970     0.969     0.969      3727\n",
            "\n",
            "Fold: 2\n",
            "Confusion Matrix: \n",
            " [[2196   83]\n",
            " [  28 1420]]\n",
            "Classification Report: \n",
            "               precision    recall  f1-score   support\n",
            "\n",
            "           0      0.987     0.964     0.975      2279\n",
            "           1      0.945     0.981     0.962      1448\n",
            "\n",
            "    accuracy                          0.970      3727\n",
            "   macro avg      0.966     0.972     0.969      3727\n",
            "weighted avg      0.971     0.970     0.970      3727\n",
            "\n",
            "Fold: 3\n",
            "Confusion Matrix: \n",
            " [[2174   86]\n",
            " [  43 1424]]\n",
            "Classification Report: \n",
            "               precision    recall  f1-score   support\n",
            "\n",
            "           0      0.981     0.962     0.971      2260\n",
            "           1      0.943     0.971     0.957      1467\n",
            "\n",
            "    accuracy                          0.965      3727\n",
            "   macro avg      0.962     0.966     0.964      3727\n",
            "weighted avg      0.966     0.965     0.965      3727\n",
            "\n",
            "Fold: 4\n",
            "Confusion Matrix: \n",
            " [[2260   72]\n",
            " [  21 1374]]\n",
            "Classification Report: \n",
            "               precision    recall  f1-score   support\n",
            "\n",
            "           0      0.991     0.969     0.980      2332\n",
            "           1      0.950     0.985     0.967      1395\n",
            "\n",
            "    accuracy                          0.975      3727\n",
            "   macro avg      0.971     0.977     0.974      3727\n",
            "weighted avg      0.976     0.975     0.975      3727\n",
            "\n",
            "Fold: 5\n",
            "Confusion Matrix: \n",
            " [[2161   81]\n",
            " [  26 1458]]\n",
            "Classification Report: \n",
            "               precision    recall  f1-score   support\n",
            "\n",
            "           0      0.988     0.964     0.976      2242\n",
            "           1      0.947     0.982     0.965      1484\n",
            "\n",
            "    accuracy                          0.971      3726\n",
            "   macro avg      0.968     0.973     0.970      3726\n",
            "weighted avg      0.972     0.971     0.971      3726\n",
            "\n"
          ]
        }
      ],
      "source": [
        "fold = 1\n",
        "\n",
        "for train_index, val_index in kfold.split(X):\n",
        "\n",
        "  X_train, X_val = X[train_index], X[val_index]\n",
        "  y_train, y_val = y[train_index], y[val_index]\n",
        "\n",
        "  vectorizer = TfidfVectorizer(sublinear_tf=True, ngram_range=(1, 3), max_features=10000)\n",
        "  vectorizer.fit(X_train)\n",
        "\n",
        "  X_train = vectorizer.transform(X_train)\n",
        "  X_val = vectorizer.transform(X_val)\n",
        "\n",
        "  model = XGBClassifier(n_estimators=800, learning_rate=0.1, max_depth=4, colsample_bytree=0.2, n_jobs=-1, random_state=42)\n",
        "  model.fit(X_train, y_train)\n",
        "  y_pred = model.predict(X_val)\n",
        "\n",
        "  print_report(y_val, y_pred, fold)\n",
        "  fold += 1"
      ]
    },
    {
      "cell_type": "code",
      "source": [
        "print(f'Средняя точность: {mean([0.969, 0.970, 0.965, 0.975, 0.971])}')"
      ],
      "metadata": {
        "colab": {
          "base_uri": "https://localhost:8080/"
        },
        "id": "CwrnafYsN1sD",
        "outputId": "c97b850d-10aa-4c04-8f92-b797f4f12e8a"
      },
      "id": "CwrnafYsN1sD",
      "execution_count": 52,
      "outputs": [
        {
          "output_type": "stream",
          "name": "stdout",
          "text": [
            "Средняя точность: 0.97\n"
          ]
        }
      ]
    },
    {
      "cell_type": "markdown",
      "source": [
        "# Вывод"
      ],
      "metadata": {
        "id": "pWpbSYC7OyFv"
      },
      "id": "pWpbSYC7OyFv"
    },
    {
      "cell_type": "markdown",
      "source": [
        "В ходе работы были построены следующие модели:\n",
        " - Random Forest Classifier,\n",
        " - SVM,\n",
        " - K-Fold + XGBoost.\n",
        "\n",
        "В результате оценивания, было установлено, что наиболее точной моделью является K-Fold + XGBoost (при num_folds = 5) со средним результатом на уровне 0.97.\n",
        "\n",
        "Таким образом, цель построить модель классификации, которая бы определяла по тексту письма фишинговое оно или нет, была выполнена."
      ],
      "metadata": {
        "id": "dWmzZIA3IBpz"
      },
      "id": "dWmzZIA3IBpz"
    }
  ],
  "metadata": {
    "kernelspec": {
      "display_name": "Python 3",
      "language": "python",
      "name": "python3"
    },
    "language_info": {
      "codemirror_mode": {
        "name": "ipython",
        "version": 3
      },
      "file_extension": ".py",
      "mimetype": "text/x-python",
      "name": "python",
      "nbconvert_exporter": "python",
      "pygments_lexer": "ipython3",
      "version": "3.10.12"
    },
    "papermill": {
      "default_parameters": {},
      "duration": 798.282462,
      "end_time": "2023-11-14T03:52:08.909075",
      "environment_variables": {},
      "exception": null,
      "input_path": "__notebook__.ipynb",
      "output_path": "__notebook__.ipynb",
      "parameters": {},
      "start_time": "2023-11-14T03:38:50.626613",
      "version": "2.4.0"
    },
    "colab": {
      "provenance": []
    }
  },
  "nbformat": 4,
  "nbformat_minor": 5
}